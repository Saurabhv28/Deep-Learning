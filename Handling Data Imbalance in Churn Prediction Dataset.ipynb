{
  "cells": [
    {
      "cell_type": "markdown",
      "source": [
        "# **Customer Churn Prediction**"
      ],
      "metadata": {
        "id": "cyOI6FmsbZtK"
      }
    },
    {
      "cell_type": "code",
      "source": [
        "import numpy as np\n",
        "import pandas as pd\n",
        "import matplotlib.pyplot as plt\n",
        "% matplotlib inline\n",
        "import math\n",
        "import tensorflow as tf\n",
        "from tensorflow import keras"
      ],
      "metadata": {
        "id": "s9IlKW_AbX-L"
      },
      "execution_count": null,
      "outputs": []
    },
    {
      "cell_type": "code",
      "execution_count": null,
      "metadata": {
        "id": "MGhXV2nlBe9f",
        "colab": {
          "base_uri": "https://localhost:8080/"
        },
        "outputId": "fd6a9f9e-e1ce-4096-d784-c88af30c2fc4"
      },
      "outputs": [
        {
          "output_type": "stream",
          "name": "stdout",
          "text": [
            "Drive already mounted at /content/drive; to attempt to forcibly remount, call drive.mount(\"/content/drive\", force_remount=True).\n"
          ]
        }
      ],
      "source": [
        "from google.colab import drive\n",
        "drive.mount('/content/drive')"
      ]
    },
    {
      "cell_type": "code",
      "execution_count": null,
      "metadata": {
        "id": "Tzufe6adBx1f"
      },
      "outputs": [],
      "source": [
        "data = pd.read_csv('/content/drive/MyDrive/Colab Notebooks/Code Basics Deep Learning/WA_Fn-UseC_-Telco-Customer-Churn.csv')"
      ]
    },
    {
      "cell_type": "code",
      "execution_count": null,
      "metadata": {
        "id": "uD-BQFvSB9Qf",
        "colab": {
          "base_uri": "https://localhost:8080/",
          "height": 340
        },
        "outputId": "4b347bc0-e961-4e4c-a15a-6244d75fc3be"
      },
      "outputs": [
        {
          "output_type": "execute_result",
          "data": {
            "text/html": [
              "\n",
              "  <div id=\"df-73bfc93c-64b7-482d-bbbb-6520b359084d\">\n",
              "    <div class=\"colab-df-container\">\n",
              "      <div>\n",
              "<style scoped>\n",
              "    .dataframe tbody tr th:only-of-type {\n",
              "        vertical-align: middle;\n",
              "    }\n",
              "\n",
              "    .dataframe tbody tr th {\n",
              "        vertical-align: top;\n",
              "    }\n",
              "\n",
              "    .dataframe thead th {\n",
              "        text-align: right;\n",
              "    }\n",
              "</style>\n",
              "<table border=\"1\" class=\"dataframe\">\n",
              "  <thead>\n",
              "    <tr style=\"text-align: right;\">\n",
              "      <th></th>\n",
              "      <th>customerID</th>\n",
              "      <th>gender</th>\n",
              "      <th>SeniorCitizen</th>\n",
              "      <th>Partner</th>\n",
              "      <th>Dependents</th>\n",
              "      <th>tenure</th>\n",
              "      <th>PhoneService</th>\n",
              "      <th>MultipleLines</th>\n",
              "      <th>InternetService</th>\n",
              "      <th>OnlineSecurity</th>\n",
              "      <th>OnlineBackup</th>\n",
              "      <th>DeviceProtection</th>\n",
              "      <th>TechSupport</th>\n",
              "      <th>StreamingTV</th>\n",
              "      <th>StreamingMovies</th>\n",
              "      <th>Contract</th>\n",
              "      <th>PaperlessBilling</th>\n",
              "      <th>PaymentMethod</th>\n",
              "      <th>MonthlyCharges</th>\n",
              "      <th>TotalCharges</th>\n",
              "      <th>Churn</th>\n",
              "    </tr>\n",
              "  </thead>\n",
              "  <tbody>\n",
              "    <tr>\n",
              "      <th>0</th>\n",
              "      <td>7590-VHVEG</td>\n",
              "      <td>Female</td>\n",
              "      <td>0</td>\n",
              "      <td>Yes</td>\n",
              "      <td>No</td>\n",
              "      <td>1</td>\n",
              "      <td>No</td>\n",
              "      <td>No phone service</td>\n",
              "      <td>DSL</td>\n",
              "      <td>No</td>\n",
              "      <td>Yes</td>\n",
              "      <td>No</td>\n",
              "      <td>No</td>\n",
              "      <td>No</td>\n",
              "      <td>No</td>\n",
              "      <td>Month-to-month</td>\n",
              "      <td>Yes</td>\n",
              "      <td>Electronic check</td>\n",
              "      <td>29.85</td>\n",
              "      <td>29.85</td>\n",
              "      <td>No</td>\n",
              "    </tr>\n",
              "    <tr>\n",
              "      <th>1</th>\n",
              "      <td>5575-GNVDE</td>\n",
              "      <td>Male</td>\n",
              "      <td>0</td>\n",
              "      <td>No</td>\n",
              "      <td>No</td>\n",
              "      <td>34</td>\n",
              "      <td>Yes</td>\n",
              "      <td>No</td>\n",
              "      <td>DSL</td>\n",
              "      <td>Yes</td>\n",
              "      <td>No</td>\n",
              "      <td>Yes</td>\n",
              "      <td>No</td>\n",
              "      <td>No</td>\n",
              "      <td>No</td>\n",
              "      <td>One year</td>\n",
              "      <td>No</td>\n",
              "      <td>Mailed check</td>\n",
              "      <td>56.95</td>\n",
              "      <td>1889.5</td>\n",
              "      <td>No</td>\n",
              "    </tr>\n",
              "    <tr>\n",
              "      <th>2</th>\n",
              "      <td>3668-QPYBK</td>\n",
              "      <td>Male</td>\n",
              "      <td>0</td>\n",
              "      <td>No</td>\n",
              "      <td>No</td>\n",
              "      <td>2</td>\n",
              "      <td>Yes</td>\n",
              "      <td>No</td>\n",
              "      <td>DSL</td>\n",
              "      <td>Yes</td>\n",
              "      <td>Yes</td>\n",
              "      <td>No</td>\n",
              "      <td>No</td>\n",
              "      <td>No</td>\n",
              "      <td>No</td>\n",
              "      <td>Month-to-month</td>\n",
              "      <td>Yes</td>\n",
              "      <td>Mailed check</td>\n",
              "      <td>53.85</td>\n",
              "      <td>108.15</td>\n",
              "      <td>Yes</td>\n",
              "    </tr>\n",
              "    <tr>\n",
              "      <th>3</th>\n",
              "      <td>7795-CFOCW</td>\n",
              "      <td>Male</td>\n",
              "      <td>0</td>\n",
              "      <td>No</td>\n",
              "      <td>No</td>\n",
              "      <td>45</td>\n",
              "      <td>No</td>\n",
              "      <td>No phone service</td>\n",
              "      <td>DSL</td>\n",
              "      <td>Yes</td>\n",
              "      <td>No</td>\n",
              "      <td>Yes</td>\n",
              "      <td>Yes</td>\n",
              "      <td>No</td>\n",
              "      <td>No</td>\n",
              "      <td>One year</td>\n",
              "      <td>No</td>\n",
              "      <td>Bank transfer (automatic)</td>\n",
              "      <td>42.30</td>\n",
              "      <td>1840.75</td>\n",
              "      <td>No</td>\n",
              "    </tr>\n",
              "    <tr>\n",
              "      <th>4</th>\n",
              "      <td>9237-HQITU</td>\n",
              "      <td>Female</td>\n",
              "      <td>0</td>\n",
              "      <td>No</td>\n",
              "      <td>No</td>\n",
              "      <td>2</td>\n",
              "      <td>Yes</td>\n",
              "      <td>No</td>\n",
              "      <td>Fiber optic</td>\n",
              "      <td>No</td>\n",
              "      <td>No</td>\n",
              "      <td>No</td>\n",
              "      <td>No</td>\n",
              "      <td>No</td>\n",
              "      <td>No</td>\n",
              "      <td>Month-to-month</td>\n",
              "      <td>Yes</td>\n",
              "      <td>Electronic check</td>\n",
              "      <td>70.70</td>\n",
              "      <td>151.65</td>\n",
              "      <td>Yes</td>\n",
              "    </tr>\n",
              "  </tbody>\n",
              "</table>\n",
              "</div>\n",
              "      <button class=\"colab-df-convert\" onclick=\"convertToInteractive('df-73bfc93c-64b7-482d-bbbb-6520b359084d')\"\n",
              "              title=\"Convert this dataframe to an interactive table.\"\n",
              "              style=\"display:none;\">\n",
              "        \n",
              "  <svg xmlns=\"http://www.w3.org/2000/svg\" height=\"24px\"viewBox=\"0 0 24 24\"\n",
              "       width=\"24px\">\n",
              "    <path d=\"M0 0h24v24H0V0z\" fill=\"none\"/>\n",
              "    <path d=\"M18.56 5.44l.94 2.06.94-2.06 2.06-.94-2.06-.94-.94-2.06-.94 2.06-2.06.94zm-11 1L8.5 8.5l.94-2.06 2.06-.94-2.06-.94L8.5 2.5l-.94 2.06-2.06.94zm10 10l.94 2.06.94-2.06 2.06-.94-2.06-.94-.94-2.06-.94 2.06-2.06.94z\"/><path d=\"M17.41 7.96l-1.37-1.37c-.4-.4-.92-.59-1.43-.59-.52 0-1.04.2-1.43.59L10.3 9.45l-7.72 7.72c-.78.78-.78 2.05 0 2.83L4 21.41c.39.39.9.59 1.41.59.51 0 1.02-.2 1.41-.59l7.78-7.78 2.81-2.81c.8-.78.8-2.07 0-2.86zM5.41 20L4 18.59l7.72-7.72 1.47 1.35L5.41 20z\"/>\n",
              "  </svg>\n",
              "      </button>\n",
              "      \n",
              "  <style>\n",
              "    .colab-df-container {\n",
              "      display:flex;\n",
              "      flex-wrap:wrap;\n",
              "      gap: 12px;\n",
              "    }\n",
              "\n",
              "    .colab-df-convert {\n",
              "      background-color: #E8F0FE;\n",
              "      border: none;\n",
              "      border-radius: 50%;\n",
              "      cursor: pointer;\n",
              "      display: none;\n",
              "      fill: #1967D2;\n",
              "      height: 32px;\n",
              "      padding: 0 0 0 0;\n",
              "      width: 32px;\n",
              "    }\n",
              "\n",
              "    .colab-df-convert:hover {\n",
              "      background-color: #E2EBFA;\n",
              "      box-shadow: 0px 1px 2px rgba(60, 64, 67, 0.3), 0px 1px 3px 1px rgba(60, 64, 67, 0.15);\n",
              "      fill: #174EA6;\n",
              "    }\n",
              "\n",
              "    [theme=dark] .colab-df-convert {\n",
              "      background-color: #3B4455;\n",
              "      fill: #D2E3FC;\n",
              "    }\n",
              "\n",
              "    [theme=dark] .colab-df-convert:hover {\n",
              "      background-color: #434B5C;\n",
              "      box-shadow: 0px 1px 3px 1px rgba(0, 0, 0, 0.15);\n",
              "      filter: drop-shadow(0px 1px 2px rgba(0, 0, 0, 0.3));\n",
              "      fill: #FFFFFF;\n",
              "    }\n",
              "  </style>\n",
              "\n",
              "      <script>\n",
              "        const buttonEl =\n",
              "          document.querySelector('#df-73bfc93c-64b7-482d-bbbb-6520b359084d button.colab-df-convert');\n",
              "        buttonEl.style.display =\n",
              "          google.colab.kernel.accessAllowed ? 'block' : 'none';\n",
              "\n",
              "        async function convertToInteractive(key) {\n",
              "          const element = document.querySelector('#df-73bfc93c-64b7-482d-bbbb-6520b359084d');\n",
              "          const dataTable =\n",
              "            await google.colab.kernel.invokeFunction('convertToInteractive',\n",
              "                                                     [key], {});\n",
              "          if (!dataTable) return;\n",
              "\n",
              "          const docLinkHtml = 'Like what you see? Visit the ' +\n",
              "            '<a target=\"_blank\" href=https://colab.research.google.com/notebooks/data_table.ipynb>data table notebook</a>'\n",
              "            + ' to learn more about interactive tables.';\n",
              "          element.innerHTML = '';\n",
              "          dataTable['output_type'] = 'display_data';\n",
              "          await google.colab.output.renderOutput(dataTable, element);\n",
              "          const docLink = document.createElement('div');\n",
              "          docLink.innerHTML = docLinkHtml;\n",
              "          element.appendChild(docLink);\n",
              "        }\n",
              "      </script>\n",
              "    </div>\n",
              "  </div>\n",
              "  "
            ],
            "text/plain": [
              "   customerID  gender  SeniorCitizen  ... MonthlyCharges TotalCharges  Churn\n",
              "0  7590-VHVEG  Female              0  ...          29.85        29.85     No\n",
              "1  5575-GNVDE    Male              0  ...          56.95       1889.5     No\n",
              "2  3668-QPYBK    Male              0  ...          53.85       108.15    Yes\n",
              "3  7795-CFOCW    Male              0  ...          42.30      1840.75     No\n",
              "4  9237-HQITU  Female              0  ...          70.70       151.65    Yes\n",
              "\n",
              "[5 rows x 21 columns]"
            ]
          },
          "metadata": {},
          "execution_count": 63
        }
      ],
      "source": [
        "data.head()"
      ]
    },
    {
      "cell_type": "code",
      "execution_count": null,
      "metadata": {
        "id": "WyMzqn8hCD6d",
        "colab": {
          "base_uri": "https://localhost:8080/"
        },
        "outputId": "f4e0e5d4-938d-4d7f-d925-08299e9a4aae"
      },
      "outputs": [
        {
          "output_type": "execute_result",
          "data": {
            "text/plain": [
              "(7043, 21)"
            ]
          },
          "metadata": {},
          "execution_count": 64
        }
      ],
      "source": [
        "data.shape"
      ]
    },
    {
      "cell_type": "markdown",
      "metadata": {
        "id": "3G4pB7GiSq1-"
      },
      "source": [
        "# ***Data Preprocessing:***"
      ]
    },
    {
      "cell_type": "code",
      "execution_count": null,
      "metadata": {
        "id": "1vXqezbeDPrd"
      },
      "outputs": [],
      "source": [
        "# CustomerID is useless:\n",
        "data.drop('customerID', axis = 'columns', inplace = True)"
      ]
    },
    {
      "cell_type": "code",
      "execution_count": null,
      "metadata": {
        "id": "2wI-9ivvEUi8",
        "colab": {
          "base_uri": "https://localhost:8080/"
        },
        "outputId": "b83024b8-9a86-435b-bc06-b380d4746bf5"
      },
      "outputs": [
        {
          "output_type": "execute_result",
          "data": {
            "text/plain": [
              "gender               object\n",
              "SeniorCitizen         int64\n",
              "Partner              object\n",
              "Dependents           object\n",
              "tenure                int64\n",
              "PhoneService         object\n",
              "MultipleLines        object\n",
              "InternetService      object\n",
              "OnlineSecurity       object\n",
              "OnlineBackup         object\n",
              "DeviceProtection     object\n",
              "TechSupport          object\n",
              "StreamingTV          object\n",
              "StreamingMovies      object\n",
              "Contract             object\n",
              "PaperlessBilling     object\n",
              "PaymentMethod        object\n",
              "MonthlyCharges      float64\n",
              "TotalCharges         object\n",
              "Churn                object\n",
              "dtype: object"
            ]
          },
          "metadata": {},
          "execution_count": 66
        }
      ],
      "source": [
        "data.dtypes"
      ]
    },
    {
      "cell_type": "code",
      "execution_count": null,
      "metadata": {
        "id": "UMP3EFLEFSus",
        "colab": {
          "base_uri": "https://localhost:8080/"
        },
        "outputId": "5bef5a5c-e3f0-40b8-98e2-5ac3f3f6dd44"
      },
      "outputs": [
        {
          "output_type": "execute_result",
          "data": {
            "text/plain": [
              "array([ 29.85,  56.95,  53.85, ...,  29.6 ,  74.4 , 105.65])"
            ]
          },
          "metadata": {},
          "execution_count": 67
        }
      ],
      "source": [
        "data.MonthlyCharges.values"
      ]
    },
    {
      "cell_type": "code",
      "execution_count": null,
      "metadata": {
        "id": "KaQVN1KED5tM",
        "colab": {
          "base_uri": "https://localhost:8080/"
        },
        "outputId": "3036393f-6d5b-4b19-cce1-be24644ecf33"
      },
      "outputs": [
        {
          "output_type": "execute_result",
          "data": {
            "text/plain": [
              "array(['29.85', '1889.5', '108.15', ..., '346.45', '306.6', '6844.5'],\n",
              "      dtype=object)"
            ]
          },
          "metadata": {},
          "execution_count": 68
        }
      ],
      "source": [
        "data.TotalCharges.values\n",
        "# convert from object to integer:"
      ]
    },
    {
      "cell_type": "code",
      "execution_count": null,
      "metadata": {
        "id": "MwfdmiWnEl-c",
        "colab": {
          "base_uri": "https://localhost:8080/"
        },
        "outputId": "0d3cc4b5-e1ba-41ba-f913-3664cb0eaf08"
      },
      "outputs": [
        {
          "output_type": "execute_result",
          "data": {
            "text/plain": [
              "0       False\n",
              "1       False\n",
              "2       False\n",
              "3       False\n",
              "4       False\n",
              "        ...  \n",
              "7038    False\n",
              "7039    False\n",
              "7040    False\n",
              "7041    False\n",
              "7042    False\n",
              "Name: TotalCharges, Length: 7043, dtype: bool"
            ]
          },
          "metadata": {},
          "execution_count": 69
        }
      ],
      "source": [
        "# some TotalCharges values have spaces between them so we ignore those datasets:\n",
        "pd.to_numeric(data.TotalCharges, errors='coerce').isnull()"
      ]
    },
    {
      "cell_type": "code",
      "execution_count": null,
      "metadata": {
        "id": "53rf3iTeEaXv",
        "colab": {
          "base_uri": "https://localhost:8080/",
          "height": 615
        },
        "outputId": "eb4b1aa8-d9c3-465c-d84a-a2443318c506"
      },
      "outputs": [
        {
          "output_type": "execute_result",
          "data": {
            "text/html": [
              "\n",
              "  <div id=\"df-48f5f65c-9890-4aee-938e-0170426c7fd2\">\n",
              "    <div class=\"colab-df-container\">\n",
              "      <div>\n",
              "<style scoped>\n",
              "    .dataframe tbody tr th:only-of-type {\n",
              "        vertical-align: middle;\n",
              "    }\n",
              "\n",
              "    .dataframe tbody tr th {\n",
              "        vertical-align: top;\n",
              "    }\n",
              "\n",
              "    .dataframe thead th {\n",
              "        text-align: right;\n",
              "    }\n",
              "</style>\n",
              "<table border=\"1\" class=\"dataframe\">\n",
              "  <thead>\n",
              "    <tr style=\"text-align: right;\">\n",
              "      <th></th>\n",
              "      <th>gender</th>\n",
              "      <th>SeniorCitizen</th>\n",
              "      <th>Partner</th>\n",
              "      <th>Dependents</th>\n",
              "      <th>tenure</th>\n",
              "      <th>PhoneService</th>\n",
              "      <th>MultipleLines</th>\n",
              "      <th>InternetService</th>\n",
              "      <th>OnlineSecurity</th>\n",
              "      <th>OnlineBackup</th>\n",
              "      <th>DeviceProtection</th>\n",
              "      <th>TechSupport</th>\n",
              "      <th>StreamingTV</th>\n",
              "      <th>StreamingMovies</th>\n",
              "      <th>Contract</th>\n",
              "      <th>PaperlessBilling</th>\n",
              "      <th>PaymentMethod</th>\n",
              "      <th>MonthlyCharges</th>\n",
              "      <th>TotalCharges</th>\n",
              "      <th>Churn</th>\n",
              "    </tr>\n",
              "  </thead>\n",
              "  <tbody>\n",
              "    <tr>\n",
              "      <th>488</th>\n",
              "      <td>Female</td>\n",
              "      <td>0</td>\n",
              "      <td>Yes</td>\n",
              "      <td>Yes</td>\n",
              "      <td>0</td>\n",
              "      <td>No</td>\n",
              "      <td>No phone service</td>\n",
              "      <td>DSL</td>\n",
              "      <td>Yes</td>\n",
              "      <td>No</td>\n",
              "      <td>Yes</td>\n",
              "      <td>Yes</td>\n",
              "      <td>Yes</td>\n",
              "      <td>No</td>\n",
              "      <td>Two year</td>\n",
              "      <td>Yes</td>\n",
              "      <td>Bank transfer (automatic)</td>\n",
              "      <td>52.55</td>\n",
              "      <td></td>\n",
              "      <td>No</td>\n",
              "    </tr>\n",
              "    <tr>\n",
              "      <th>753</th>\n",
              "      <td>Male</td>\n",
              "      <td>0</td>\n",
              "      <td>No</td>\n",
              "      <td>Yes</td>\n",
              "      <td>0</td>\n",
              "      <td>Yes</td>\n",
              "      <td>No</td>\n",
              "      <td>No</td>\n",
              "      <td>No internet service</td>\n",
              "      <td>No internet service</td>\n",
              "      <td>No internet service</td>\n",
              "      <td>No internet service</td>\n",
              "      <td>No internet service</td>\n",
              "      <td>No internet service</td>\n",
              "      <td>Two year</td>\n",
              "      <td>No</td>\n",
              "      <td>Mailed check</td>\n",
              "      <td>20.25</td>\n",
              "      <td></td>\n",
              "      <td>No</td>\n",
              "    </tr>\n",
              "    <tr>\n",
              "      <th>936</th>\n",
              "      <td>Female</td>\n",
              "      <td>0</td>\n",
              "      <td>Yes</td>\n",
              "      <td>Yes</td>\n",
              "      <td>0</td>\n",
              "      <td>Yes</td>\n",
              "      <td>No</td>\n",
              "      <td>DSL</td>\n",
              "      <td>Yes</td>\n",
              "      <td>Yes</td>\n",
              "      <td>Yes</td>\n",
              "      <td>No</td>\n",
              "      <td>Yes</td>\n",
              "      <td>Yes</td>\n",
              "      <td>Two year</td>\n",
              "      <td>No</td>\n",
              "      <td>Mailed check</td>\n",
              "      <td>80.85</td>\n",
              "      <td></td>\n",
              "      <td>No</td>\n",
              "    </tr>\n",
              "    <tr>\n",
              "      <th>1082</th>\n",
              "      <td>Male</td>\n",
              "      <td>0</td>\n",
              "      <td>Yes</td>\n",
              "      <td>Yes</td>\n",
              "      <td>0</td>\n",
              "      <td>Yes</td>\n",
              "      <td>Yes</td>\n",
              "      <td>No</td>\n",
              "      <td>No internet service</td>\n",
              "      <td>No internet service</td>\n",
              "      <td>No internet service</td>\n",
              "      <td>No internet service</td>\n",
              "      <td>No internet service</td>\n",
              "      <td>No internet service</td>\n",
              "      <td>Two year</td>\n",
              "      <td>No</td>\n",
              "      <td>Mailed check</td>\n",
              "      <td>25.75</td>\n",
              "      <td></td>\n",
              "      <td>No</td>\n",
              "    </tr>\n",
              "    <tr>\n",
              "      <th>1340</th>\n",
              "      <td>Female</td>\n",
              "      <td>0</td>\n",
              "      <td>Yes</td>\n",
              "      <td>Yes</td>\n",
              "      <td>0</td>\n",
              "      <td>No</td>\n",
              "      <td>No phone service</td>\n",
              "      <td>DSL</td>\n",
              "      <td>Yes</td>\n",
              "      <td>Yes</td>\n",
              "      <td>Yes</td>\n",
              "      <td>Yes</td>\n",
              "      <td>Yes</td>\n",
              "      <td>No</td>\n",
              "      <td>Two year</td>\n",
              "      <td>No</td>\n",
              "      <td>Credit card (automatic)</td>\n",
              "      <td>56.05</td>\n",
              "      <td></td>\n",
              "      <td>No</td>\n",
              "    </tr>\n",
              "    <tr>\n",
              "      <th>3331</th>\n",
              "      <td>Male</td>\n",
              "      <td>0</td>\n",
              "      <td>Yes</td>\n",
              "      <td>Yes</td>\n",
              "      <td>0</td>\n",
              "      <td>Yes</td>\n",
              "      <td>No</td>\n",
              "      <td>No</td>\n",
              "      <td>No internet service</td>\n",
              "      <td>No internet service</td>\n",
              "      <td>No internet service</td>\n",
              "      <td>No internet service</td>\n",
              "      <td>No internet service</td>\n",
              "      <td>No internet service</td>\n",
              "      <td>Two year</td>\n",
              "      <td>No</td>\n",
              "      <td>Mailed check</td>\n",
              "      <td>19.85</td>\n",
              "      <td></td>\n",
              "      <td>No</td>\n",
              "    </tr>\n",
              "    <tr>\n",
              "      <th>3826</th>\n",
              "      <td>Male</td>\n",
              "      <td>0</td>\n",
              "      <td>Yes</td>\n",
              "      <td>Yes</td>\n",
              "      <td>0</td>\n",
              "      <td>Yes</td>\n",
              "      <td>Yes</td>\n",
              "      <td>No</td>\n",
              "      <td>No internet service</td>\n",
              "      <td>No internet service</td>\n",
              "      <td>No internet service</td>\n",
              "      <td>No internet service</td>\n",
              "      <td>No internet service</td>\n",
              "      <td>No internet service</td>\n",
              "      <td>Two year</td>\n",
              "      <td>No</td>\n",
              "      <td>Mailed check</td>\n",
              "      <td>25.35</td>\n",
              "      <td></td>\n",
              "      <td>No</td>\n",
              "    </tr>\n",
              "    <tr>\n",
              "      <th>4380</th>\n",
              "      <td>Female</td>\n",
              "      <td>0</td>\n",
              "      <td>Yes</td>\n",
              "      <td>Yes</td>\n",
              "      <td>0</td>\n",
              "      <td>Yes</td>\n",
              "      <td>No</td>\n",
              "      <td>No</td>\n",
              "      <td>No internet service</td>\n",
              "      <td>No internet service</td>\n",
              "      <td>No internet service</td>\n",
              "      <td>No internet service</td>\n",
              "      <td>No internet service</td>\n",
              "      <td>No internet service</td>\n",
              "      <td>Two year</td>\n",
              "      <td>No</td>\n",
              "      <td>Mailed check</td>\n",
              "      <td>20.00</td>\n",
              "      <td></td>\n",
              "      <td>No</td>\n",
              "    </tr>\n",
              "    <tr>\n",
              "      <th>5218</th>\n",
              "      <td>Male</td>\n",
              "      <td>0</td>\n",
              "      <td>Yes</td>\n",
              "      <td>Yes</td>\n",
              "      <td>0</td>\n",
              "      <td>Yes</td>\n",
              "      <td>No</td>\n",
              "      <td>No</td>\n",
              "      <td>No internet service</td>\n",
              "      <td>No internet service</td>\n",
              "      <td>No internet service</td>\n",
              "      <td>No internet service</td>\n",
              "      <td>No internet service</td>\n",
              "      <td>No internet service</td>\n",
              "      <td>One year</td>\n",
              "      <td>Yes</td>\n",
              "      <td>Mailed check</td>\n",
              "      <td>19.70</td>\n",
              "      <td></td>\n",
              "      <td>No</td>\n",
              "    </tr>\n",
              "    <tr>\n",
              "      <th>6670</th>\n",
              "      <td>Female</td>\n",
              "      <td>0</td>\n",
              "      <td>Yes</td>\n",
              "      <td>Yes</td>\n",
              "      <td>0</td>\n",
              "      <td>Yes</td>\n",
              "      <td>Yes</td>\n",
              "      <td>DSL</td>\n",
              "      <td>No</td>\n",
              "      <td>Yes</td>\n",
              "      <td>Yes</td>\n",
              "      <td>Yes</td>\n",
              "      <td>Yes</td>\n",
              "      <td>No</td>\n",
              "      <td>Two year</td>\n",
              "      <td>No</td>\n",
              "      <td>Mailed check</td>\n",
              "      <td>73.35</td>\n",
              "      <td></td>\n",
              "      <td>No</td>\n",
              "    </tr>\n",
              "    <tr>\n",
              "      <th>6754</th>\n",
              "      <td>Male</td>\n",
              "      <td>0</td>\n",
              "      <td>No</td>\n",
              "      <td>Yes</td>\n",
              "      <td>0</td>\n",
              "      <td>Yes</td>\n",
              "      <td>Yes</td>\n",
              "      <td>DSL</td>\n",
              "      <td>Yes</td>\n",
              "      <td>Yes</td>\n",
              "      <td>No</td>\n",
              "      <td>Yes</td>\n",
              "      <td>No</td>\n",
              "      <td>No</td>\n",
              "      <td>Two year</td>\n",
              "      <td>Yes</td>\n",
              "      <td>Bank transfer (automatic)</td>\n",
              "      <td>61.90</td>\n",
              "      <td></td>\n",
              "      <td>No</td>\n",
              "    </tr>\n",
              "  </tbody>\n",
              "</table>\n",
              "</div>\n",
              "      <button class=\"colab-df-convert\" onclick=\"convertToInteractive('df-48f5f65c-9890-4aee-938e-0170426c7fd2')\"\n",
              "              title=\"Convert this dataframe to an interactive table.\"\n",
              "              style=\"display:none;\">\n",
              "        \n",
              "  <svg xmlns=\"http://www.w3.org/2000/svg\" height=\"24px\"viewBox=\"0 0 24 24\"\n",
              "       width=\"24px\">\n",
              "    <path d=\"M0 0h24v24H0V0z\" fill=\"none\"/>\n",
              "    <path d=\"M18.56 5.44l.94 2.06.94-2.06 2.06-.94-2.06-.94-.94-2.06-.94 2.06-2.06.94zm-11 1L8.5 8.5l.94-2.06 2.06-.94-2.06-.94L8.5 2.5l-.94 2.06-2.06.94zm10 10l.94 2.06.94-2.06 2.06-.94-2.06-.94-.94-2.06-.94 2.06-2.06.94z\"/><path d=\"M17.41 7.96l-1.37-1.37c-.4-.4-.92-.59-1.43-.59-.52 0-1.04.2-1.43.59L10.3 9.45l-7.72 7.72c-.78.78-.78 2.05 0 2.83L4 21.41c.39.39.9.59 1.41.59.51 0 1.02-.2 1.41-.59l7.78-7.78 2.81-2.81c.8-.78.8-2.07 0-2.86zM5.41 20L4 18.59l7.72-7.72 1.47 1.35L5.41 20z\"/>\n",
              "  </svg>\n",
              "      </button>\n",
              "      \n",
              "  <style>\n",
              "    .colab-df-container {\n",
              "      display:flex;\n",
              "      flex-wrap:wrap;\n",
              "      gap: 12px;\n",
              "    }\n",
              "\n",
              "    .colab-df-convert {\n",
              "      background-color: #E8F0FE;\n",
              "      border: none;\n",
              "      border-radius: 50%;\n",
              "      cursor: pointer;\n",
              "      display: none;\n",
              "      fill: #1967D2;\n",
              "      height: 32px;\n",
              "      padding: 0 0 0 0;\n",
              "      width: 32px;\n",
              "    }\n",
              "\n",
              "    .colab-df-convert:hover {\n",
              "      background-color: #E2EBFA;\n",
              "      box-shadow: 0px 1px 2px rgba(60, 64, 67, 0.3), 0px 1px 3px 1px rgba(60, 64, 67, 0.15);\n",
              "      fill: #174EA6;\n",
              "    }\n",
              "\n",
              "    [theme=dark] .colab-df-convert {\n",
              "      background-color: #3B4455;\n",
              "      fill: #D2E3FC;\n",
              "    }\n",
              "\n",
              "    [theme=dark] .colab-df-convert:hover {\n",
              "      background-color: #434B5C;\n",
              "      box-shadow: 0px 1px 3px 1px rgba(0, 0, 0, 0.15);\n",
              "      filter: drop-shadow(0px 1px 2px rgba(0, 0, 0, 0.3));\n",
              "      fill: #FFFFFF;\n",
              "    }\n",
              "  </style>\n",
              "\n",
              "      <script>\n",
              "        const buttonEl =\n",
              "          document.querySelector('#df-48f5f65c-9890-4aee-938e-0170426c7fd2 button.colab-df-convert');\n",
              "        buttonEl.style.display =\n",
              "          google.colab.kernel.accessAllowed ? 'block' : 'none';\n",
              "\n",
              "        async function convertToInteractive(key) {\n",
              "          const element = document.querySelector('#df-48f5f65c-9890-4aee-938e-0170426c7fd2');\n",
              "          const dataTable =\n",
              "            await google.colab.kernel.invokeFunction('convertToInteractive',\n",
              "                                                     [key], {});\n",
              "          if (!dataTable) return;\n",
              "\n",
              "          const docLinkHtml = 'Like what you see? Visit the ' +\n",
              "            '<a target=\"_blank\" href=https://colab.research.google.com/notebooks/data_table.ipynb>data table notebook</a>'\n",
              "            + ' to learn more about interactive tables.';\n",
              "          element.innerHTML = '';\n",
              "          dataTable['output_type'] = 'display_data';\n",
              "          await google.colab.output.renderOutput(dataTable, element);\n",
              "          const docLink = document.createElement('div');\n",
              "          docLink.innerHTML = docLinkHtml;\n",
              "          element.appendChild(docLink);\n",
              "        }\n",
              "      </script>\n",
              "    </div>\n",
              "  </div>\n",
              "  "
            ],
            "text/plain": [
              "      gender  SeniorCitizen Partner  ... MonthlyCharges  TotalCharges Churn\n",
              "488   Female              0     Yes  ...          52.55                  No\n",
              "753     Male              0      No  ...          20.25                  No\n",
              "936   Female              0     Yes  ...          80.85                  No\n",
              "1082    Male              0     Yes  ...          25.75                  No\n",
              "1340  Female              0     Yes  ...          56.05                  No\n",
              "3331    Male              0     Yes  ...          19.85                  No\n",
              "3826    Male              0     Yes  ...          25.35                  No\n",
              "4380  Female              0     Yes  ...          20.00                  No\n",
              "5218    Male              0     Yes  ...          19.70                  No\n",
              "6670  Female              0     Yes  ...          73.35                  No\n",
              "6754    Male              0      No  ...          61.90                  No\n",
              "\n",
              "[11 rows x 20 columns]"
            ]
          },
          "metadata": {},
          "execution_count": 70
        }
      ],
      "source": [
        "# printing those TotalCharges values which had spaces betweem them: \n",
        "data[pd.to_numeric(data.TotalCharges, errors='coerce').isnull()]"
      ]
    },
    {
      "cell_type": "code",
      "execution_count": null,
      "metadata": {
        "id": "2wW_uMFSIkC6"
      },
      "outputs": [],
      "source": [
        "# df.iloc[488]"
      ]
    },
    {
      "cell_type": "code",
      "execution_count": null,
      "metadata": {
        "id": "jlFs6WEKGMfL",
        "colab": {
          "base_uri": "https://localhost:8080/"
        },
        "outputId": "80334dbd-de9f-4d09-8006-3eabdf8e4f6a"
      },
      "outputs": [
        {
          "output_type": "execute_result",
          "data": {
            "text/plain": [
              "(11, 20)"
            ]
          },
          "metadata": {},
          "execution_count": 72
        }
      ],
      "source": [
        "data[pd.to_numeric(data.TotalCharges, errors='coerce').isnull()].shape\n",
        "# we can delete 11 datasets out of 7043 datasets"
      ]
    },
    {
      "cell_type": "code",
      "execution_count": null,
      "metadata": {
        "id": "lSeojUatHcbb",
        "colab": {
          "base_uri": "https://localhost:8080/"
        },
        "outputId": "d3a00312-2617-4eeb-9a18-10b6c5e8f4fb"
      },
      "outputs": [
        {
          "output_type": "execute_result",
          "data": {
            "text/plain": [
              "gender               object\n",
              "SeniorCitizen         int64\n",
              "Partner              object\n",
              "Dependents           object\n",
              "tenure                int64\n",
              "PhoneService         object\n",
              "MultipleLines        object\n",
              "InternetService      object\n",
              "OnlineSecurity       object\n",
              "OnlineBackup         object\n",
              "DeviceProtection     object\n",
              "TechSupport          object\n",
              "StreamingTV          object\n",
              "StreamingMovies      object\n",
              "Contract             object\n",
              "PaperlessBilling     object\n",
              "PaymentMethod        object\n",
              "MonthlyCharges      float64\n",
              "TotalCharges         object\n",
              "Churn                object\n",
              "dtype: object"
            ]
          },
          "metadata": {},
          "execution_count": 73
        }
      ],
      "source": [
        "df = data[data.TotalCharges!=' ']\n",
        "df.dtypes"
      ]
    },
    {
      "cell_type": "code",
      "execution_count": null,
      "metadata": {
        "id": "lfw_sFURH6Ly",
        "colab": {
          "base_uri": "https://localhost:8080/"
        },
        "outputId": "d4ce1b25-a822-40b4-f385-c615c96c9bf0"
      },
      "outputs": [
        {
          "output_type": "stream",
          "name": "stderr",
          "text": [
            "/usr/local/lib/python3.7/dist-packages/pandas/core/generic.py:5516: SettingWithCopyWarning: \n",
            "A value is trying to be set on a copy of a slice from a DataFrame.\n",
            "Try using .loc[row_indexer,col_indexer] = value instead\n",
            "\n",
            "See the caveats in the documentation: https://pandas.pydata.org/pandas-docs/stable/user_guide/indexing.html#returning-a-view-versus-a-copy\n",
            "  self[name] = value\n"
          ]
        },
        {
          "output_type": "execute_result",
          "data": {
            "text/plain": [
              "gender               object\n",
              "SeniorCitizen         int64\n",
              "Partner              object\n",
              "Dependents           object\n",
              "tenure                int64\n",
              "PhoneService         object\n",
              "MultipleLines        object\n",
              "InternetService      object\n",
              "OnlineSecurity       object\n",
              "OnlineBackup         object\n",
              "DeviceProtection     object\n",
              "TechSupport          object\n",
              "StreamingTV          object\n",
              "StreamingMovies      object\n",
              "Contract             object\n",
              "PaperlessBilling     object\n",
              "PaymentMethod        object\n",
              "MonthlyCharges      float64\n",
              "TotalCharges        float64\n",
              "Churn                object\n",
              "dtype: object"
            ]
          },
          "metadata": {},
          "execution_count": 74
        }
      ],
      "source": [
        "# convert from object to integer:\n",
        "df.TotalCharges = pd.to_numeric(df.TotalCharges)\n",
        "df.dtypes"
      ]
    },
    {
      "cell_type": "code",
      "execution_count": null,
      "metadata": {
        "id": "-YsVwV9HJDEh",
        "colab": {
          "base_uri": "https://localhost:8080/"
        },
        "outputId": "3d776392-f5f8-45de-ed8b-702684f4b10b"
      },
      "outputs": [
        {
          "output_type": "execute_result",
          "data": {
            "text/plain": [
              "(7032, 20)"
            ]
          },
          "metadata": {},
          "execution_count": 75
        }
      ],
      "source": [
        "df.shape"
      ]
    },
    {
      "cell_type": "code",
      "execution_count": null,
      "metadata": {
        "id": "53upPIDmJb5z",
        "colab": {
          "base_uri": "https://localhost:8080/"
        },
        "outputId": "7c6876c2-cb0c-4aa6-c4c7-61f6ae7b2e7a"
      },
      "outputs": [
        {
          "output_type": "execute_result",
          "data": {
            "text/plain": [
              "0        1\n",
              "1       34\n",
              "3       45\n",
              "6       22\n",
              "7       10\n",
              "        ..\n",
              "7037    72\n",
              "7038    24\n",
              "7039    72\n",
              "7040    11\n",
              "7042    66\n",
              "Name: tenure, Length: 5163, dtype: int64"
            ]
          },
          "metadata": {},
          "execution_count": 76
        }
      ],
      "source": [
        "df[df.Churn == 'No'].tenure"
      ]
    },
    {
      "cell_type": "code",
      "execution_count": null,
      "metadata": {
        "id": "II_NjmmrOLM-",
        "colab": {
          "base_uri": "https://localhost:8080/",
          "height": 336
        },
        "outputId": "c846a170-020a-42e1-d2f1-8d322c30b3ad"
      },
      "outputs": [
        {
          "output_type": "stream",
          "name": "stderr",
          "text": [
            "/usr/local/lib/python3.7/dist-packages/numpy/core/_asarray.py:83: VisibleDeprecationWarning: Creating an ndarray from ragged nested sequences (which is a list-or-tuple of lists-or-tuples-or ndarrays with different lengths or shapes) is deprecated. If you meant to do this, you must specify 'dtype=object' when creating the ndarray\n",
            "  return array(a, dtype, copy=False, order=order)\n"
          ]
        },
        {
          "output_type": "display_data",
          "data": {
            "image/png": "[encoded data removed]",
            "text/plain": [
              "<Figure size 432x288 with 1 Axes>"
            ]
          },
          "metadata": {
            "needs_background": "light"
          }
        }
      ],
      "source": [
        "tenure_churn_no = df[df.Churn == 'No'].tenure\n",
        "tenure_churn_yes = df[df.Churn == 'Yes'].tenure\n",
        "\n",
        "plt.xlabel('Tenure:')\n",
        "plt.ylabel('No. of Customers:')\n",
        "plt.hist([tenure_churn_yes, tenure_churn_no], color = ['red', 'green'], label = ['Churn= Yes', 'Churn = No'])\n",
        "plt.legend()\n",
        "plt.show()"
      ]
    },
    {
      "cell_type": "code",
      "execution_count": null,
      "metadata": {
        "id": "VZJNP6dvQ3Ue",
        "colab": {
          "base_uri": "https://localhost:8080/",
          "height": 336
        },
        "outputId": "34d50997-4931-4e44-d2c8-01aaf8195c13"
      },
      "outputs": [
        {
          "output_type": "stream",
          "name": "stderr",
          "text": [
            "/usr/local/lib/python3.7/dist-packages/numpy/core/_asarray.py:83: VisibleDeprecationWarning: Creating an ndarray from ragged nested sequences (which is a list-or-tuple of lists-or-tuples-or ndarrays with different lengths or shapes) is deprecated. If you meant to do this, you must specify 'dtype=object' when creating the ndarray\n",
            "  return array(a, dtype, copy=False, order=order)\n"
          ]
        },
        {
          "output_type": "display_data",
          "data": {
            "image/png": "[encoded data removed]",
            "text/plain": [
              "<Figure size 432x288 with 1 Axes>"
            ]
          },
          "metadata": {
            "needs_background": "light"
          }
        }
      ],
      "source": [
        "MonthlyCharges_churn_no = df[df.Churn == 'No'].MonthlyCharges\n",
        "MonthlyCharges_churn_yes = df[df.Churn == 'Yes'].MonthlyCharges\n",
        "\n",
        "plt.xlabel('MonthlyCharges:')\n",
        "plt.ylabel('No. of Customers:')\n",
        "plt.hist([MonthlyCharges_churn_yes, MonthlyCharges_churn_no], color = ['red', 'green'], label = ['Churn= Yes', 'Churn = No'])\n",
        "plt.legend()\n",
        "plt.show()"
      ]
    },
    {
      "cell_type": "code",
      "execution_count": null,
      "metadata": {
        "id": "i13JTGy3RYXU",
        "colab": {
          "base_uri": "https://localhost:8080/"
        },
        "outputId": "21d5a47c-b8b2-47ff-a6ac-f929835c90a4"
      },
      "outputs": [
        {
          "output_type": "stream",
          "name": "stdout",
          "text": [
            "gender : ['Female' 'Male']\n",
            "SeniorCitizen : [0 1]\n",
            "Partner : ['Yes' 'No']\n",
            "Dependents : ['No' 'Yes']\n",
            "tenure : [ 1 34  2 45  8 22 10 28 62 13 16 58 49 25 69 52 71 21 12 30 47 72 17 27\n",
            "  5 46 11 70 63 43 15 60 18 66  9  3 31 50 64 56  7 42 35 48 29 65 38 68\n",
            " 32 55 37 36 41  6  4 33 67 23 57 61 14 20 53 40 59 24 44 19 54 51 26 39]\n",
            "PhoneService : ['No' 'Yes']\n",
            "MultipleLines : ['No phone service' 'No' 'Yes']\n",
            "InternetService : ['DSL' 'Fiber optic' 'No']\n",
            "OnlineSecurity : ['No' 'Yes' 'No internet service']\n",
            "OnlineBackup : ['Yes' 'No' 'No internet service']\n",
            "DeviceProtection : ['No' 'Yes' 'No internet service']\n",
            "TechSupport : ['No' 'Yes' 'No internet service']\n",
            "StreamingTV : ['No' 'Yes' 'No internet service']\n",
            "StreamingMovies : ['No' 'Yes' 'No internet service']\n",
            "Contract : ['Month-to-month' 'One year' 'Two year']\n",
            "PaperlessBilling : ['Yes' 'No']\n",
            "PaymentMethod : ['Electronic check' 'Mailed check' 'Bank transfer (automatic)'\n",
            " 'Credit card (automatic)']\n",
            "MonthlyCharges : [29.85 56.95 53.85 ... 63.1  44.2  78.7 ]\n",
            "TotalCharges : [  29.85 1889.5   108.15 ...  346.45  306.6  6844.5 ]\n",
            "Churn : ['No' 'Yes']\n"
          ]
        }
      ],
      "source": [
        "# Printing unique values of each column:\n",
        "for column in df:\n",
        "    print(f'{column} : {df[column].unique()}')"
      ]
    },
    {
      "cell_type": "code",
      "execution_count": null,
      "metadata": {
        "id": "w9INn9b-P-lO",
        "colab": {
          "base_uri": "https://localhost:8080/"
        },
        "outputId": "e41f05e7-ced6-420f-ef22-ab6bd60cec6d"
      },
      "outputs": [
        {
          "output_type": "stream",
          "name": "stdout",
          "text": [
            "gender : ['Female' 'Male']\n",
            "Partner : ['Yes' 'No']\n",
            "Dependents : ['No' 'Yes']\n",
            "PhoneService : ['No' 'Yes']\n",
            "MultipleLines : ['No phone service' 'No' 'Yes']\n",
            "InternetService : ['DSL' 'Fiber optic' 'No']\n",
            "OnlineSecurity : ['No' 'Yes' 'No internet service']\n",
            "OnlineBackup : ['Yes' 'No' 'No internet service']\n",
            "DeviceProtection : ['No' 'Yes' 'No internet service']\n",
            "TechSupport : ['No' 'Yes' 'No internet service']\n",
            "StreamingTV : ['No' 'Yes' 'No internet service']\n",
            "StreamingMovies : ['No' 'Yes' 'No internet service']\n",
            "Contract : ['Month-to-month' 'One year' 'Two year']\n",
            "PaperlessBilling : ['Yes' 'No']\n",
            "PaymentMethod : ['Electronic check' 'Mailed check' 'Bank transfer (automatic)'\n",
            " 'Credit card (automatic)']\n",
            "Churn : ['No' 'Yes']\n"
          ]
        }
      ],
      "source": [
        "for column in df:\n",
        "    if df[column].dtypes == 'object':\n",
        "        print(f'{column} : {df[column].unique()}')\n",
        "\n",
        "# Replace 'No phone service' and 'No internet service' with 'No' only."
      ]
    },
    {
      "cell_type": "code",
      "execution_count": null,
      "metadata": {
        "id": "-1O1IQIiSXVV",
        "colab": {
          "base_uri": "https://localhost:8080/"
        },
        "outputId": "af742161-a49a-4695-8238-4421d984f6dd"
      },
      "outputs": [
        {
          "output_type": "stream",
          "name": "stderr",
          "text": [
            "/usr/local/lib/python3.7/dist-packages/pandas/core/frame.py:5244: SettingWithCopyWarning: \n",
            "A value is trying to be set on a copy of a slice from a DataFrame\n",
            "\n",
            "See the caveats in the documentation: https://pandas.pydata.org/pandas-docs/stable/user_guide/indexing.html#returning-a-view-versus-a-copy\n",
            "  method=method,\n"
          ]
        }
      ],
      "source": [
        "df.replace('No phone service', 'No', inplace = True)\n",
        "df.replace('No internet service', 'No', inplace = True)"
      ]
    },
    {
      "cell_type": "code",
      "execution_count": null,
      "metadata": {
        "id": "6zeOcOYYTPFd",
        "colab": {
          "base_uri": "https://localhost:8080/"
        },
        "outputId": "e25b36d0-8f06-4613-f679-b966874e6cde"
      },
      "outputs": [
        {
          "output_type": "stream",
          "name": "stdout",
          "text": [
            "gender : ['Female' 'Male']\n",
            "Partner : ['Yes' 'No']\n",
            "Dependents : ['No' 'Yes']\n",
            "PhoneService : ['No' 'Yes']\n",
            "MultipleLines : ['No' 'Yes']\n",
            "InternetService : ['DSL' 'Fiber optic' 'No']\n",
            "OnlineSecurity : ['No' 'Yes']\n",
            "OnlineBackup : ['Yes' 'No']\n",
            "DeviceProtection : ['No' 'Yes']\n",
            "TechSupport : ['No' 'Yes']\n",
            "StreamingTV : ['No' 'Yes']\n",
            "StreamingMovies : ['No' 'Yes']\n",
            "Contract : ['Month-to-month' 'One year' 'Two year']\n",
            "PaperlessBilling : ['Yes' 'No']\n",
            "PaymentMethod : ['Electronic check' 'Mailed check' 'Bank transfer (automatic)'\n",
            " 'Credit card (automatic)']\n",
            "Churn : ['No' 'Yes']\n"
          ]
        }
      ],
      "source": [
        "for column in df:\n",
        "    if df[column].dtypes == 'object':\n",
        "        print(f'{column} : {df[column].unique()}')"
      ]
    },
    {
      "cell_type": "code",
      "execution_count": null,
      "metadata": {
        "id": "HDtmmDEWTmHE",
        "colab": {
          "base_uri": "https://localhost:8080/"
        },
        "outputId": "dfc7b1dc-e782-4720-fae0-39114a15f73c"
      },
      "outputs": [
        {
          "output_type": "stream",
          "name": "stderr",
          "text": [
            "/usr/local/lib/python3.7/dist-packages/pandas/core/generic.py:6619: SettingWithCopyWarning: \n",
            "A value is trying to be set on a copy of a slice from a DataFrame\n",
            "\n",
            "See the caveats in the documentation: https://pandas.pydata.org/pandas-docs/stable/user_guide/indexing.html#returning-a-view-versus-a-copy\n",
            "  return self._update_inplace(result)\n"
          ]
        }
      ],
      "source": [
        "yes_no_columns = ['Partner', 'Dependents', 'PhoneService', 'MultipleLines', \n",
        "                  'OnlineSecurity', 'OnlineBackup', 'DeviceProtection', 'TechSupport',\n",
        "                  'StreamingTV', 'StreamingMovies', 'PaperlessBilling', 'Churn']\n",
        "\n",
        "for column in yes_no_columns:\n",
        "    df[column].replace({'Yes': 1, 'No': 0}, inplace = True)                   "
      ]
    },
    {
      "cell_type": "code",
      "execution_count": null,
      "metadata": {
        "id": "9u2ePJd7VPO7",
        "colab": {
          "base_uri": "https://localhost:8080/"
        },
        "outputId": "da2c0c1d-99c9-472c-f8dc-f036b6c2313c"
      },
      "outputs": [
        {
          "output_type": "stream",
          "name": "stdout",
          "text": [
            "gender : ['Female' 'Male']\n",
            "SeniorCitizen : [0 1]\n",
            "Partner : [1 0]\n",
            "Dependents : [0 1]\n",
            "tenure : [ 1 34  2 45  8 22 10 28 62 13 16 58 49 25 69 52 71 21 12 30 47 72 17 27\n",
            "  5 46 11 70 63 43 15 60 18 66  9  3 31 50 64 56  7 42 35 48 29 65 38 68\n",
            " 32 55 37 36 41  6  4 33 67 23 57 61 14 20 53 40 59 24 44 19 54 51 26 39]\n",
            "PhoneService : [0 1]\n",
            "MultipleLines : [0 1]\n",
            "InternetService : ['DSL' 'Fiber optic' 'No']\n",
            "OnlineSecurity : [0 1]\n",
            "OnlineBackup : [1 0]\n",
            "DeviceProtection : [0 1]\n",
            "TechSupport : [0 1]\n",
            "StreamingTV : [0 1]\n",
            "StreamingMovies : [0 1]\n",
            "Contract : ['Month-to-month' 'One year' 'Two year']\n",
            "PaperlessBilling : [1 0]\n",
            "PaymentMethod : ['Electronic check' 'Mailed check' 'Bank transfer (automatic)'\n",
            " 'Credit card (automatic)']\n",
            "MonthlyCharges : [29.85 56.95 53.85 ... 63.1  44.2  78.7 ]\n",
            "TotalCharges : [  29.85 1889.5   108.15 ...  346.45  306.6  6844.5 ]\n",
            "Churn : [0 1]\n"
          ]
        }
      ],
      "source": [
        "for column in df:\n",
        "    print(f'{column} : {df[column].unique()}')"
      ]
    },
    {
      "cell_type": "code",
      "execution_count": null,
      "metadata": {
        "id": "RSLYFRNVVaEq",
        "colab": {
          "base_uri": "https://localhost:8080/"
        },
        "outputId": "5ec3170f-2ed3-42de-ddbb-b69984a49148"
      },
      "outputs": [
        {
          "output_type": "stream",
          "name": "stderr",
          "text": [
            "/usr/local/lib/python3.7/dist-packages/pandas/core/generic.py:6619: SettingWithCopyWarning: \n",
            "A value is trying to be set on a copy of a slice from a DataFrame\n",
            "\n",
            "See the caveats in the documentation: https://pandas.pydata.org/pandas-docs/stable/user_guide/indexing.html#returning-a-view-versus-a-copy\n",
            "  return self._update_inplace(result)\n"
          ]
        }
      ],
      "source": [
        "df['gender'].replace({'Female': 1, 'Male': 0}, inplace = True) "
      ]
    },
    {
      "cell_type": "code",
      "execution_count": null,
      "metadata": {
        "id": "E4_sQBr6VoTa",
        "colab": {
          "base_uri": "https://localhost:8080/"
        },
        "outputId": "f7fc2ec0-3f9f-4918-fd30-7d81aa600571"
      },
      "outputs": [
        {
          "output_type": "execute_result",
          "data": {
            "text/plain": [
              "Index(['gender', 'SeniorCitizen', 'Partner', 'Dependents', 'tenure',\n",
              "       'PhoneService', 'MultipleLines', 'OnlineSecurity', 'OnlineBackup',\n",
              "       'DeviceProtection', 'TechSupport', 'StreamingTV', 'StreamingMovies',\n",
              "       'PaperlessBilling', 'MonthlyCharges', 'TotalCharges', 'Churn',\n",
              "       'InternetService_DSL', 'InternetService_Fiber optic',\n",
              "       'InternetService_No', 'Contract_Month-to-month', 'Contract_One year',\n",
              "       'Contract_Two year', 'PaymentMethod_Bank transfer (automatic)',\n",
              "       'PaymentMethod_Credit card (automatic)',\n",
              "       'PaymentMethod_Electronic check', 'PaymentMethod_Mailed check'],\n",
              "      dtype='object')"
            ]
          },
          "metadata": {},
          "execution_count": 86
        }
      ],
      "source": [
        "# Hot encoding:\n",
        "df1 = pd.get_dummies(data = df, columns = ['InternetService', 'Contract', 'PaymentMethod'])\n",
        "df1.columns"
      ]
    },
    {
      "cell_type": "code",
      "execution_count": null,
      "metadata": {
        "id": "Eph8e4pCZRa8",
        "colab": {
          "base_uri": "https://localhost:8080/"
        },
        "outputId": "5db53296-e50e-4853-ed4b-925fed71e3c6"
      },
      "outputs": [
        {
          "output_type": "stream",
          "name": "stdout",
          "text": [
            "(7032, 27)\n",
            "(7032, 20)\n"
          ]
        }
      ],
      "source": [
        "print(df1.shape)\n",
        "print(df.shape)"
      ]
    },
    {
      "cell_type": "code",
      "execution_count": null,
      "metadata": {
        "id": "D92idw9aZYyI",
        "colab": {
          "base_uri": "https://localhost:8080/"
        },
        "outputId": "d939ed70-efae-4067-e4bb-0bece8d23580"
      },
      "outputs": [
        {
          "output_type": "execute_result",
          "data": {
            "text/plain": [
              "gender                                       int64\n",
              "SeniorCitizen                                int64\n",
              "Partner                                      int64\n",
              "Dependents                                   int64\n",
              "tenure                                       int64\n",
              "PhoneService                                 int64\n",
              "MultipleLines                                int64\n",
              "OnlineSecurity                               int64\n",
              "OnlineBackup                                 int64\n",
              "DeviceProtection                             int64\n",
              "TechSupport                                  int64\n",
              "StreamingTV                                  int64\n",
              "StreamingMovies                              int64\n",
              "PaperlessBilling                             int64\n",
              "MonthlyCharges                             float64\n",
              "TotalCharges                               float64\n",
              "Churn                                        int64\n",
              "InternetService_DSL                          uint8\n",
              "InternetService_Fiber optic                  uint8\n",
              "InternetService_No                           uint8\n",
              "Contract_Month-to-month                      uint8\n",
              "Contract_One year                            uint8\n",
              "Contract_Two year                            uint8\n",
              "PaymentMethod_Bank transfer (automatic)      uint8\n",
              "PaymentMethod_Credit card (automatic)        uint8\n",
              "PaymentMethod_Electronic check               uint8\n",
              "PaymentMethod_Mailed check                   uint8\n",
              "dtype: object"
            ]
          },
          "metadata": {},
          "execution_count": 88
        }
      ],
      "source": [
        "df1.dtypes"
      ]
    },
    {
      "cell_type": "code",
      "execution_count": null,
      "metadata": {
        "id": "v1UQ1Y27ZybP"
      },
      "outputs": [],
      "source": [
        "# Scaling of data:\n",
        "columns_to_scale = ['tenure', 'MonthlyCharges', 'TotalCharges']\n",
        "from sklearn.preprocessing import MinMaxScaler\n",
        "scaler = MinMaxScaler()\n",
        "\n",
        "df1[columns_to_scale] = scaler.fit_transform(df1[columns_to_scale])"
      ]
    },
    {
      "cell_type": "code",
      "execution_count": null,
      "metadata": {
        "id": "gRFHJLGuaoiP",
        "colab": {
          "base_uri": "https://localhost:8080/",
          "height": 242
        },
        "outputId": "107df4e6-cdfb-42ad-dd9d-467985716aad"
      },
      "outputs": [
        {
          "output_type": "execute_result",
          "data": {
            "text/html": [
              "\n",
              "  <div id=\"df-090f46a9-d78c-4c04-a65e-e21d7e262324\">\n",
              "    <div class=\"colab-df-container\">\n",
              "      <div>\n",
              "<style scoped>\n",
              "    .dataframe tbody tr th:only-of-type {\n",
              "        vertical-align: middle;\n",
              "    }\n",
              "\n",
              "    .dataframe tbody tr th {\n",
              "        vertical-align: top;\n",
              "    }\n",
              "\n",
              "    .dataframe thead th {\n",
              "        text-align: right;\n",
              "    }\n",
              "</style>\n",
              "<table border=\"1\" class=\"dataframe\">\n",
              "  <thead>\n",
              "    <tr style=\"text-align: right;\">\n",
              "      <th></th>\n",
              "      <th>gender</th>\n",
              "      <th>SeniorCitizen</th>\n",
              "      <th>Partner</th>\n",
              "      <th>Dependents</th>\n",
              "      <th>tenure</th>\n",
              "      <th>PhoneService</th>\n",
              "      <th>MultipleLines</th>\n",
              "      <th>OnlineSecurity</th>\n",
              "      <th>OnlineBackup</th>\n",
              "      <th>DeviceProtection</th>\n",
              "      <th>TechSupport</th>\n",
              "      <th>StreamingTV</th>\n",
              "      <th>StreamingMovies</th>\n",
              "      <th>PaperlessBilling</th>\n",
              "      <th>MonthlyCharges</th>\n",
              "      <th>TotalCharges</th>\n",
              "      <th>Churn</th>\n",
              "      <th>InternetService_DSL</th>\n",
              "      <th>InternetService_Fiber optic</th>\n",
              "      <th>InternetService_No</th>\n",
              "      <th>Contract_Month-to-month</th>\n",
              "      <th>Contract_One year</th>\n",
              "      <th>Contract_Two year</th>\n",
              "      <th>PaymentMethod_Bank transfer (automatic)</th>\n",
              "      <th>PaymentMethod_Credit card (automatic)</th>\n",
              "      <th>PaymentMethod_Electronic check</th>\n",
              "      <th>PaymentMethod_Mailed check</th>\n",
              "    </tr>\n",
              "  </thead>\n",
              "  <tbody>\n",
              "    <tr>\n",
              "      <th>2939</th>\n",
              "      <td>0</td>\n",
              "      <td>1</td>\n",
              "      <td>0</td>\n",
              "      <td>0</td>\n",
              "      <td>0.154930</td>\n",
              "      <td>1</td>\n",
              "      <td>0</td>\n",
              "      <td>0</td>\n",
              "      <td>1</td>\n",
              "      <td>1</td>\n",
              "      <td>1</td>\n",
              "      <td>0</td>\n",
              "      <td>0</td>\n",
              "      <td>1</td>\n",
              "      <td>0.652239</td>\n",
              "      <td>0.116657</td>\n",
              "      <td>1</td>\n",
              "      <td>0</td>\n",
              "      <td>1</td>\n",
              "      <td>0</td>\n",
              "      <td>1</td>\n",
              "      <td>0</td>\n",
              "      <td>0</td>\n",
              "      <td>0</td>\n",
              "      <td>0</td>\n",
              "      <td>0</td>\n",
              "      <td>1</td>\n",
              "    </tr>\n",
              "    <tr>\n",
              "      <th>519</th>\n",
              "      <td>0</td>\n",
              "      <td>0</td>\n",
              "      <td>0</td>\n",
              "      <td>0</td>\n",
              "      <td>0.154930</td>\n",
              "      <td>1</td>\n",
              "      <td>0</td>\n",
              "      <td>0</td>\n",
              "      <td>0</td>\n",
              "      <td>0</td>\n",
              "      <td>0</td>\n",
              "      <td>0</td>\n",
              "      <td>0</td>\n",
              "      <td>0</td>\n",
              "      <td>0.017910</td>\n",
              "      <td>0.028462</td>\n",
              "      <td>0</td>\n",
              "      <td>0</td>\n",
              "      <td>0</td>\n",
              "      <td>1</td>\n",
              "      <td>1</td>\n",
              "      <td>0</td>\n",
              "      <td>0</td>\n",
              "      <td>0</td>\n",
              "      <td>1</td>\n",
              "      <td>0</td>\n",
              "      <td>0</td>\n",
              "    </tr>\n",
              "    <tr>\n",
              "      <th>1149</th>\n",
              "      <td>0</td>\n",
              "      <td>0</td>\n",
              "      <td>1</td>\n",
              "      <td>1</td>\n",
              "      <td>0.169014</td>\n",
              "      <td>1</td>\n",
              "      <td>0</td>\n",
              "      <td>0</td>\n",
              "      <td>0</td>\n",
              "      <td>1</td>\n",
              "      <td>0</td>\n",
              "      <td>1</td>\n",
              "      <td>1</td>\n",
              "      <td>1</td>\n",
              "      <td>0.780100</td>\n",
              "      <td>0.132016</td>\n",
              "      <td>1</td>\n",
              "      <td>0</td>\n",
              "      <td>1</td>\n",
              "      <td>0</td>\n",
              "      <td>1</td>\n",
              "      <td>0</td>\n",
              "      <td>0</td>\n",
              "      <td>0</td>\n",
              "      <td>0</td>\n",
              "      <td>0</td>\n",
              "      <td>1</td>\n",
              "    </tr>\n",
              "  </tbody>\n",
              "</table>\n",
              "</div>\n",
              "      <button class=\"colab-df-convert\" onclick=\"convertToInteractive('df-090f46a9-d78c-4c04-a65e-e21d7e262324')\"\n",
              "              title=\"Convert this dataframe to an interactive table.\"\n",
              "              style=\"display:none;\">\n",
              "        \n",
              "  <svg xmlns=\"http://www.w3.org/2000/svg\" height=\"24px\"viewBox=\"0 0 24 24\"\n",
              "       width=\"24px\">\n",
              "    <path d=\"M0 0h24v24H0V0z\" fill=\"none\"/>\n",
              "    <path d=\"M18.56 5.44l.94 2.06.94-2.06 2.06-.94-2.06-.94-.94-2.06-.94 2.06-2.06.94zm-11 1L8.5 8.5l.94-2.06 2.06-.94-2.06-.94L8.5 2.5l-.94 2.06-2.06.94zm10 10l.94 2.06.94-2.06 2.06-.94-2.06-.94-.94-2.06-.94 2.06-2.06.94z\"/><path d=\"M17.41 7.96l-1.37-1.37c-.4-.4-.92-.59-1.43-.59-.52 0-1.04.2-1.43.59L10.3 9.45l-7.72 7.72c-.78.78-.78 2.05 0 2.83L4 21.41c.39.39.9.59 1.41.59.51 0 1.02-.2 1.41-.59l7.78-7.78 2.81-2.81c.8-.78.8-2.07 0-2.86zM5.41 20L4 18.59l7.72-7.72 1.47 1.35L5.41 20z\"/>\n",
              "  </svg>\n",
              "      </button>\n",
              "      \n",
              "  <style>\n",
              "    .colab-df-container {\n",
              "      display:flex;\n",
              "      flex-wrap:wrap;\n",
              "      gap: 12px;\n",
              "    }\n",
              "\n",
              "    .colab-df-convert {\n",
              "      background-color: #E8F0FE;\n",
              "      border: none;\n",
              "      border-radius: 50%;\n",
              "      cursor: pointer;\n",
              "      display: none;\n",
              "      fill: #1967D2;\n",
              "      height: 32px;\n",
              "      padding: 0 0 0 0;\n",
              "      width: 32px;\n",
              "    }\n",
              "\n",
              "    .colab-df-convert:hover {\n",
              "      background-color: #E2EBFA;\n",
              "      box-shadow: 0px 1px 2px rgba(60, 64, 67, 0.3), 0px 1px 3px 1px rgba(60, 64, 67, 0.15);\n",
              "      fill: #174EA6;\n",
              "    }\n",
              "\n",
              "    [theme=dark] .colab-df-convert {\n",
              "      background-color: #3B4455;\n",
              "      fill: #D2E3FC;\n",
              "    }\n",
              "\n",
              "    [theme=dark] .colab-df-convert:hover {\n",
              "      background-color: #434B5C;\n",
              "      box-shadow: 0px 1px 3px 1px rgba(0, 0, 0, 0.15);\n",
              "      filter: drop-shadow(0px 1px 2px rgba(0, 0, 0, 0.3));\n",
              "      fill: #FFFFFF;\n",
              "    }\n",
              "  </style>\n",
              "\n",
              "      <script>\n",
              "        const buttonEl =\n",
              "          document.querySelector('#df-090f46a9-d78c-4c04-a65e-e21d7e262324 button.colab-df-convert');\n",
              "        buttonEl.style.display =\n",
              "          google.colab.kernel.accessAllowed ? 'block' : 'none';\n",
              "\n",
              "        async function convertToInteractive(key) {\n",
              "          const element = document.querySelector('#df-090f46a9-d78c-4c04-a65e-e21d7e262324');\n",
              "          const dataTable =\n",
              "            await google.colab.kernel.invokeFunction('convertToInteractive',\n",
              "                                                     [key], {});\n",
              "          if (!dataTable) return;\n",
              "\n",
              "          const docLinkHtml = 'Like what you see? Visit the ' +\n",
              "            '<a target=\"_blank\" href=https://colab.research.google.com/notebooks/data_table.ipynb>data table notebook</a>'\n",
              "            + ' to learn more about interactive tables.';\n",
              "          element.innerHTML = '';\n",
              "          dataTable['output_type'] = 'display_data';\n",
              "          await google.colab.output.renderOutput(dataTable, element);\n",
              "          const docLink = document.createElement('div');\n",
              "          docLink.innerHTML = docLinkHtml;\n",
              "          element.appendChild(docLink);\n",
              "        }\n",
              "      </script>\n",
              "    </div>\n",
              "  </div>\n",
              "  "
            ],
            "text/plain": [
              "      gender  ...  PaymentMethod_Mailed check\n",
              "2939       0  ...                           1\n",
              "519        0  ...                           0\n",
              "1149       0  ...                           1\n",
              "\n",
              "[3 rows x 27 columns]"
            ]
          },
          "metadata": {},
          "execution_count": 90
        }
      ],
      "source": [
        "df1.sample(3)"
      ]
    },
    {
      "cell_type": "markdown",
      "metadata": {
        "id": "14Mdq3BSa4Mg"
      },
      "source": [
        "# ***Applying ANN:***"
      ]
    },
    {
      "cell_type": "code",
      "execution_count": null,
      "metadata": {
        "id": "AihSdGjJbXfn"
      },
      "outputs": [],
      "source": [
        "X = df1.drop('Churn', axis = 'columns')\n",
        "y = df1['Churn']"
      ]
    },
    {
      "cell_type": "code",
      "execution_count": null,
      "metadata": {
        "id": "vgRIkRDMavmh"
      },
      "outputs": [],
      "source": [
        "from sklearn.model_selection import train_test_split\n",
        "X_train, X_test, y_train, y_test = train_test_split(X, y, test_size = 0.2, random_state = 5)"
      ]
    },
    {
      "cell_type": "code",
      "execution_count": null,
      "metadata": {
        "id": "Geojy4Rrbyy-",
        "colab": {
          "base_uri": "https://localhost:8080/"
        },
        "outputId": "5c45255d-d5ea-46cd-f92b-3c673fa17712"
      },
      "outputs": [
        {
          "output_type": "stream",
          "name": "stdout",
          "text": [
            "(5625, 26)\n",
            "(1407, 26)\n"
          ]
        }
      ],
      "source": [
        "print(X_train.shape)\n",
        "print(X_test.shape)"
      ]
    },
    {
      "cell_type": "code",
      "execution_count": null,
      "metadata": {
        "id": "Ey_dFwuOb_s-",
        "colab": {
          "base_uri": "https://localhost:8080/"
        },
        "outputId": "1023fcc6-0193-46ba-bf2d-35de16379ce3"
      },
      "outputs": [
        {
          "output_type": "stream",
          "name": "stdout",
          "text": [
            "Epoch 1/15\n",
            "176/176 [==============================] - 1s 2ms/step - loss: 0.5060 - accuracy: 0.7500\n",
            "Epoch 2/15\n",
            "176/176 [==============================] - 0s 3ms/step - loss: 0.4319 - accuracy: 0.7938\n",
            "Epoch 3/15\n",
            "176/176 [==============================] - 0s 3ms/step - loss: 0.4205 - accuracy: 0.8009\n",
            "Epoch 4/15\n",
            "176/176 [==============================] - 0s 2ms/step - loss: 0.4167 - accuracy: 0.8020\n",
            "Epoch 5/15\n",
            "176/176 [==============================] - 0s 2ms/step - loss: 0.4148 - accuracy: 0.8046\n",
            "Epoch 6/15\n",
            "176/176 [==============================] - 0s 2ms/step - loss: 0.4130 - accuracy: 0.8052\n",
            "Epoch 7/15\n",
            "176/176 [==============================] - 0s 2ms/step - loss: 0.4120 - accuracy: 0.8085\n",
            "Epoch 8/15\n",
            "176/176 [==============================] - 0s 2ms/step - loss: 0.4106 - accuracy: 0.8078\n",
            "Epoch 9/15\n",
            "176/176 [==============================] - 0s 2ms/step - loss: 0.4102 - accuracy: 0.8075\n",
            "Epoch 10/15\n",
            "176/176 [==============================] - 0s 2ms/step - loss: 0.4099 - accuracy: 0.8098\n",
            "Epoch 11/15\n",
            "176/176 [==============================] - 0s 2ms/step - loss: 0.4092 - accuracy: 0.8071\n",
            "Epoch 12/15\n",
            "176/176 [==============================] - 0s 2ms/step - loss: 0.4083 - accuracy: 0.8075\n",
            "Epoch 13/15\n",
            "176/176 [==============================] - 0s 2ms/step - loss: 0.4078 - accuracy: 0.8089\n",
            "Epoch 14/15\n",
            "176/176 [==============================] - 0s 2ms/step - loss: 0.4075 - accuracy: 0.8087\n",
            "Epoch 15/15\n",
            "176/176 [==============================] - 0s 2ms/step - loss: 0.4063 - accuracy: 0.8089\n"
          ]
        },
        {
          "output_type": "execute_result",
          "data": {
            "text/plain": [
              "<keras.callbacks.History at 0x7f3786cd6850>"
            ]
          },
          "metadata": {},
          "execution_count": 94
        }
      ],
      "source": [
        "model = keras.Sequential([\n",
        "        keras.layers.Dense(20 , input_shape = (26,), activation = 'relu'), # input layer, hidden layer = 20\n",
        "        # keras.layers.Dense(15, activation = 'relu'), # hidden layer = 15 \n",
        "        keras.layers.Dense(1, activation = 'sigmoid'), # output layer                  \n",
        "])\n",
        "\n",
        "model.compile(optimizer='adam',\n",
        "              loss='binary_crossentropy',\n",
        "              metrics=['accuracy'])\n",
        "\n",
        "model.fit(X_train, y_train, epochs = 15)"
      ]
    },
    {
      "cell_type": "code",
      "source": [
        ""
      ],
      "metadata": {
        "id": "85vFp7pmRxXx"
      },
      "execution_count": null,
      "outputs": []
    },
    {
      "cell_type": "code",
      "execution_count": null,
      "metadata": {
        "id": "n_Mcg1OyefuF",
        "colab": {
          "base_uri": "https://localhost:8080/"
        },
        "outputId": "b0d179b6-e062-43a4-8210-27939bf17f86"
      },
      "outputs": [
        {
          "output_type": "stream",
          "name": "stdout",
          "text": [
            "44/44 [==============================] - 0s 1ms/step - loss: 0.4400 - accuracy: 0.7868\n"
          ]
        },
        {
          "output_type": "execute_result",
          "data": {
            "text/plain": [
              "[0.440022736787796, 0.7867803573608398]"
            ]
          },
          "metadata": {},
          "execution_count": 95
        }
      ],
      "source": [
        "model.evaluate(X_test, y_test)"
      ]
    },
    {
      "cell_type": "code",
      "execution_count": null,
      "metadata": {
        "id": "v6d19O25eoar",
        "colab": {
          "base_uri": "https://localhost:8080/"
        },
        "outputId": "e2ee3836-12b6-4a70-adcb-823bb2c6827d"
      },
      "outputs": [
        {
          "output_type": "execute_result",
          "data": {
            "text/plain": [
              "[0, 0, 0, 1, 0]"
            ]
          },
          "metadata": {},
          "execution_count": 96
        }
      ],
      "source": [
        "yp = model.predict(X_test)\n",
        "y_pred = []\n",
        "for element in yp:\n",
        "    if element>0.5:\n",
        "        y_pred.append(1)\n",
        "    else:\n",
        "        y_pred.append(0)\n",
        "\n",
        "y_pred[:5]        "
      ]
    },
    {
      "cell_type": "code",
      "execution_count": null,
      "metadata": {
        "id": "hVpa4XJeh3xk",
        "colab": {
          "base_uri": "https://localhost:8080/"
        },
        "outputId": "0ed67bc1-b242-41bc-d1d3-264c6cf4395c"
      },
      "outputs": [
        {
          "output_type": "stream",
          "name": "stdout",
          "text": [
            "              precision    recall  f1-score   support\n",
            "\n",
            "           0       0.91      0.70      0.79      1033\n",
            "           1       0.49      0.80      0.61       374\n",
            "\n",
            "    accuracy                           0.72      1407\n",
            "   macro avg       0.70      0.75      0.70      1407\n",
            "weighted avg       0.79      0.72      0.74      1407\n",
            "\n"
          ]
        }
      ],
      "source": [
        "from sklearn.metrics import confusion_matrix, classification_report\n",
        "\n",
        "print(classification_report(y_test, y_pred))"
      ]
    },
    {
      "cell_type": "code",
      "source": [
        "import seaborn as sns\n",
        "cm = tf.math.confusion_matrix(labels = y_test, predictions = y_pred)\n",
        "\n",
        "plt.figure(figsize = (10,7))\n",
        "sns.heatmap(cm, annot = True, fmt = 'd', linewidths= 5, linecolor= 'green', square=True)\n",
        "plt.xlabel('Predicted')\n",
        "plt.ylabel('Truth')"
      ],
      "metadata": {
        "colab": {
          "base_uri": "https://localhost:8080/",
          "height": 460
        },
        "id": "fGTE7VTDbEuT",
        "outputId": "a75b414a-ea7a-45d4-efd2-146c66149efb"
      },
      "execution_count": null,
      "outputs": [
        {
          "output_type": "execute_result",
          "data": {
            "text/plain": [
              "Text(134.8800000000001, 0.5, 'Truth')"
            ]
          },
          "metadata": {},
          "execution_count": 98
        },
        {
          "output_type": "display_data",
          "data": {
            "image/png": "[encoded data removed]",
            "text/plain": [
              "<Figure size 720x504 with 2 Axes>"
            ]
          },
          "metadata": {
            "needs_background": "light"
          }
        }
      ]
    },
    {
      "cell_type": "markdown",
      "source": [
        "# **Data Imbalace:**"
      ],
      "metadata": {
        "id": "ubjLPjohScC3"
      }
    },
    {
      "cell_type": "code",
      "source": [
        "# Class Count:\n",
        "count_class_0, count_class_1 = df1.Churn.value_counts()\n",
        "print(count_class_0)\n",
        "print(count_class_1)\n",
        "\n",
        "# Divide data by class:\n",
        "df_class_0 = df1[df1['Churn'] == 0]\n",
        "df_class_1 = df1[df1['Churn'] == 1]"
      ],
      "metadata": {
        "colab": {
          "base_uri": "https://localhost:8080/"
        },
        "id": "DMBljqcvSbKo",
        "outputId": "c992ed4c-6548-48ff-d484-a00f282c5d5e"
      },
      "execution_count": null,
      "outputs": [
        {
          "output_type": "stream",
          "name": "stdout",
          "text": [
            "5163\n",
            "1869\n"
          ]
        }
      ]
    },
    {
      "cell_type": "code",
      "source": [
        "print(df_class_0.shape)\n",
        "print(df_class_1.shape)"
      ],
      "metadata": {
        "colab": {
          "base_uri": "https://localhost:8080/"
        },
        "id": "Lwqf06fsT3O2",
        "outputId": "099edea2-9a13-4a95-a578-517d8c9f5913"
      },
      "execution_count": null,
      "outputs": [
        {
          "output_type": "stream",
          "name": "stdout",
          "text": [
            "(5163, 27)\n",
            "(1869, 27)\n"
          ]
        }
      ]
    },
    {
      "cell_type": "markdown",
      "source": [
        "# **1. Under Sampling of Majority data:**"
      ],
      "metadata": {
        "id": "ZLKMZ7qda51K"
      }
    },
    {
      "cell_type": "code",
      "source": [
        "# We need to Under sample the class 0: i.e. Datapoints in class 0 = Datapoints in class 1\n",
        "df_class_under = df_class_0.sample(count_class_1)\n",
        "# New dataset with equal classes:\n",
        "df_test_under = pd.concat([df_class_under, df_class_1], axis = 0)\n",
        "\n",
        "print('Random under Sampling:')\n",
        "print(df_test_under.Churn.value_counts())\n",
        "print(df_test_under.shape)"
      ],
      "metadata": {
        "colab": {
          "base_uri": "https://localhost:8080/"
        },
        "id": "Y6-AqOdRUDW5",
        "outputId": "5ad2419c-9370-4884-c109-f57605f6c125"
      },
      "execution_count": null,
      "outputs": [
        {
          "output_type": "stream",
          "name": "stdout",
          "text": [
            "Random under Sampling:\n",
            "0    1869\n",
            "1    1869\n",
            "Name: Churn, dtype: int64\n",
            "(3738, 27)\n"
          ]
        }
      ]
    },
    {
      "cell_type": "code",
      "source": [
        "X = df_test_under.drop(\"Churn\", axis = 'columns')\n",
        "y = df_test_under['Churn']\n",
        "\n",
        "X_train_UnderSample, X_test_UnderSample, y_train_UnderSample, y_test_UnderSample = train_test_split(\n",
        "                                                         X, y, test_size = 0.2, \n",
        "                                                         random_state = 15, stratify = y)\n",
        "# stratify makes sure that y has equal no. of datasets of each class.\n",
        "\n",
        "print(y_train_UnderSample.value_counts())"
      ],
      "metadata": {
        "colab": {
          "base_uri": "https://localhost:8080/"
        },
        "id": "aFLDRG9kVJPe",
        "outputId": "119957a6-b61d-45f2-84c3-53900a9f9f0e"
      },
      "execution_count": null,
      "outputs": [
        {
          "output_type": "stream",
          "name": "stdout",
          "text": [
            "0    1495\n",
            "1    1495\n",
            "Name: Churn, dtype: int64\n"
          ]
        }
      ]
    },
    {
      "cell_type": "code",
      "source": [
        "def ANN(X_train, y_train, X_test, y_test, loss, weights):\n",
        "    model2 = keras.Sequential([\n",
        "        keras.layers.Dense(20 , input_shape = (26,), activation = 'relu'), # input layer, hidden layer = 20\n",
        "        keras.layers.Dense(15, activation = 'relu'), # hidden layer = 15 \n",
        "        keras.layers.Dense(1, activation = 'sigmoid'), # output layer                  \n",
        "    ])\n",
        "\n",
        "    model2.compile(optimizer='adam', loss= loss, metrics=['accuracy'])\n",
        "\n",
        "    if weights == -1:\n",
        "        model2.fit(X_train, y_train, epochs = 15)\n",
        "    else:\n",
        "        model2.fit(X_train, y_train, epochs = 15, class_weight = weights) \n",
        "\n",
        "    print(model2.evaluate(X_test, y_test)) \n",
        "    y_predicted = model2.predict(X_test)\n",
        "    y_predicted = np.round(y_predicted)   \n",
        "\n",
        "    print(' Classification report:\\n', classification_report(y_test, y_predicted))\n",
        "\n",
        "    return y_predicted   "
      ],
      "metadata": {
        "id": "7lfTWWn9YUhl"
      },
      "execution_count": null,
      "outputs": []
    },
    {
      "cell_type": "code",
      "source": [
        "y_pred = ANN(X_train_UnderSample, y_train_UnderSample, X_test_UnderSample, y_test_UnderSample, 'binary_crossentropy', -1)"
      ],
      "metadata": {
        "colab": {
          "base_uri": "https://localhost:8080/"
        },
        "id": "YIPS1dXaXrFT",
        "outputId": "18233108-0a58-48e0-c0f6-bca38d629e98"
      },
      "execution_count": null,
      "outputs": [
        {
          "output_type": "stream",
          "name": "stdout",
          "text": [
            "Epoch 1/15\n",
            "94/94 [==============================] - 1s 3ms/step - loss: 0.6253 - accuracy: 0.6726\n",
            "Epoch 2/15\n",
            "94/94 [==============================] - 0s 3ms/step - loss: 0.5295 - accuracy: 0.7455\n",
            "Epoch 3/15\n",
            "94/94 [==============================] - 0s 2ms/step - loss: 0.5040 - accuracy: 0.7505\n",
            "Epoch 4/15\n",
            "94/94 [==============================] - 0s 3ms/step - loss: 0.4934 - accuracy: 0.7565\n",
            "Epoch 5/15\n",
            "94/94 [==============================] - 0s 2ms/step - loss: 0.4876 - accuracy: 0.7669\n",
            "Epoch 6/15\n",
            "94/94 [==============================] - 0s 2ms/step - loss: 0.4838 - accuracy: 0.7645\n",
            "Epoch 7/15\n",
            "94/94 [==============================] - 0s 2ms/step - loss: 0.4814 - accuracy: 0.7652\n",
            "Epoch 8/15\n",
            "94/94 [==============================] - 0s 2ms/step - loss: 0.4793 - accuracy: 0.7692\n",
            "Epoch 9/15\n",
            "94/94 [==============================] - 0s 2ms/step - loss: 0.4765 - accuracy: 0.7729\n",
            "Epoch 10/15\n",
            "94/94 [==============================] - 0s 2ms/step - loss: 0.4753 - accuracy: 0.7709\n",
            "Epoch 11/15\n",
            "94/94 [==============================] - 0s 2ms/step - loss: 0.4722 - accuracy: 0.7749\n",
            "Epoch 12/15\n",
            "94/94 [==============================] - 0s 2ms/step - loss: 0.4730 - accuracy: 0.7736\n",
            "Epoch 13/15\n",
            "94/94 [==============================] - 0s 2ms/step - loss: 0.4712 - accuracy: 0.7732\n",
            "Epoch 14/15\n",
            "94/94 [==============================] - 0s 2ms/step - loss: 0.4689 - accuracy: 0.7769\n",
            "Epoch 15/15\n",
            "94/94 [==============================] - 0s 2ms/step - loss: 0.4681 - accuracy: 0.7803\n",
            "24/24 [==============================] - 0s 2ms/step - loss: 0.5320 - accuracy: 0.7273\n",
            "[0.5319840312004089, 0.7272727489471436]\n",
            " Classification report:\n",
            "               precision    recall  f1-score   support\n",
            "\n",
            "           0       0.74      0.71      0.72       374\n",
            "           1       0.72      0.75      0.73       374\n",
            "\n",
            "    accuracy                           0.73       748\n",
            "   macro avg       0.73      0.73      0.73       748\n",
            "weighted avg       0.73      0.73      0.73       748\n",
            "\n"
          ]
        }
      ]
    },
    {
      "cell_type": "code",
      "execution_count": null,
      "metadata": {
        "id": "lhb29SOoiLyC"
      },
      "outputs": [],
      "source": [
        ""
      ]
    },
    {
      "cell_type": "markdown",
      "source": [
        "# **2. Over Sampling of Minority Data:**"
      ],
      "metadata": {
        "id": "np02ukH9biID"
      }
    },
    {
      "cell_type": "code",
      "source": [
        "print(count_class_0)\n",
        "print(count_class_1)\n",
        "\n",
        "\n",
        "# # Divide data by class:\n",
        "# df_class_0 = df1[df1['Churn'] == 0]\n",
        "# df_class_1 = df1[df1['Churn'] == 1]"
      ],
      "metadata": {
        "colab": {
          "base_uri": "https://localhost:8080/"
        },
        "id": "VHAJ-H1ubnPy",
        "outputId": "41f1c09c-3360-48cf-8403-9ebbcee6d204"
      },
      "execution_count": null,
      "outputs": [
        {
          "output_type": "stream",
          "name": "stdout",
          "text": [
            "5163\n",
            "1869\n"
          ]
        }
      ]
    },
    {
      "cell_type": "code",
      "source": [
        "df_class_1_over = df_class_1.sample(count_class_0, replace= True)\n",
        "print(df_class_1_over.shape)\n",
        "print(df_class_0.shape)"
      ],
      "metadata": {
        "colab": {
          "base_uri": "https://localhost:8080/"
        },
        "id": "RLw38Rbpb1Ui",
        "outputId": "929c74a7-a2e6-43b9-856e-4d3bd2d06e2e"
      },
      "execution_count": null,
      "outputs": [
        {
          "output_type": "stream",
          "name": "stdout",
          "text": [
            "(5163, 27)\n",
            "(5163, 27)\n"
          ]
        }
      ]
    },
    {
      "cell_type": "code",
      "source": [
        "df_test_over = pd.concat([df_class_0, df_class_1_over], axis = 0)\n",
        "df_test_over.shape"
      ],
      "metadata": {
        "colab": {
          "base_uri": "https://localhost:8080/"
        },
        "id": "ZUh68UxBhAsg",
        "outputId": "f850218c-33ed-4242-b0b2-b2663e1be8f8"
      },
      "execution_count": null,
      "outputs": [
        {
          "output_type": "execute_result",
          "data": {
            "text/plain": [
              "(10326, 27)"
            ]
          },
          "metadata": {},
          "execution_count": 107
        }
      ]
    },
    {
      "cell_type": "code",
      "source": [
        "X = df_test_over.drop('Churn', axis = 'columns')\n",
        "y = df_test_over['Churn']\n",
        "X_train, X_test,  y_train, y_test = train_test_split (X, y, test_size = 0.2, random_state= 15, stratify = y)"
      ],
      "metadata": {
        "id": "4ARqVuwchlR-"
      },
      "execution_count": null,
      "outputs": []
    },
    {
      "cell_type": "code",
      "source": [
        "print(y_train.value_counts())"
      ],
      "metadata": {
        "colab": {
          "base_uri": "https://localhost:8080/"
        },
        "id": "14aJUBYFiRje",
        "outputId": "e276e00f-a6d9-4fde-d6f9-b2eb62056b6a"
      },
      "execution_count": null,
      "outputs": [
        {
          "output_type": "stream",
          "name": "stdout",
          "text": [
            "1    4130\n",
            "0    4130\n",
            "Name: Churn, dtype: int64\n"
          ]
        }
      ]
    },
    {
      "cell_type": "code",
      "source": [
        "y_pred = ANN(X_train, y_train, X_test, y_test, 'binary_crossentropy', -1)"
      ],
      "metadata": {
        "colab": {
          "base_uri": "https://localhost:8080/"
        },
        "id": "hFxC-OGyRuL2",
        "outputId": "aff7b871-e8a8-4186-c2ea-32d29af0a66f"
      },
      "execution_count": null,
      "outputs": [
        {
          "output_type": "stream",
          "name": "stdout",
          "text": [
            "Epoch 1/15\n",
            "259/259 [==============================] - 2s 3ms/step - loss: 0.5642 - accuracy: 0.7108\n",
            "Epoch 2/15\n",
            "259/259 [==============================] - 1s 3ms/step - loss: 0.4993 - accuracy: 0.7573\n",
            "Epoch 3/15\n",
            "259/259 [==============================] - 1s 3ms/step - loss: 0.4907 - accuracy: 0.7621\n",
            "Epoch 4/15\n",
            "259/259 [==============================] - 1s 3ms/step - loss: 0.4856 - accuracy: 0.7651\n",
            "Epoch 5/15\n",
            "259/259 [==============================] - 1s 3ms/step - loss: 0.4815 - accuracy: 0.7690\n",
            "Epoch 6/15\n",
            "259/259 [==============================] - 1s 3ms/step - loss: 0.4781 - accuracy: 0.7717\n",
            "Epoch 7/15\n",
            "259/259 [==============================] - 1s 3ms/step - loss: 0.4744 - accuracy: 0.7723\n",
            "Epoch 8/15\n",
            "259/259 [==============================] - 1s 3ms/step - loss: 0.4725 - accuracy: 0.7732\n",
            "Epoch 9/15\n",
            "259/259 [==============================] - 1s 2ms/step - loss: 0.4696 - accuracy: 0.7766\n",
            "Epoch 10/15\n",
            "259/259 [==============================] - 0s 2ms/step - loss: 0.4675 - accuracy: 0.7778\n",
            "Epoch 11/15\n",
            "259/259 [==============================] - 1s 3ms/step - loss: 0.4651 - accuracy: 0.7749\n",
            "Epoch 12/15\n",
            "259/259 [==============================] - 1s 3ms/step - loss: 0.4631 - accuracy: 0.7793\n",
            "Epoch 13/15\n",
            "259/259 [==============================] - 1s 3ms/step - loss: 0.4607 - accuracy: 0.7800\n",
            "Epoch 14/15\n",
            "259/259 [==============================] - 1s 2ms/step - loss: 0.4593 - accuracy: 0.7799\n",
            "Epoch 15/15\n",
            "259/259 [==============================] - 1s 3ms/step - loss: 0.4572 - accuracy: 0.7818\n",
            "65/65 [==============================] - 0s 2ms/step - loss: 0.4812 - accuracy: 0.7619\n",
            "[0.4812433123588562, 0.7618586421012878]\n",
            " Classification report:\n",
            "               precision    recall  f1-score   support\n",
            "\n",
            "           0       0.79      0.71      0.75      1033\n",
            "           1       0.74      0.81      0.77      1033\n",
            "\n",
            "    accuracy                           0.76      2066\n",
            "   macro avg       0.76      0.76      0.76      2066\n",
            "weighted avg       0.76      0.76      0.76      2066\n",
            "\n"
          ]
        }
      ]
    },
    {
      "cell_type": "markdown",
      "source": [
        "# **3. Over Sampling Minority data using SMOTE(Synthetic Minority Over Sampling Technique):**\n",
        "# **Using kNN method**"
      ],
      "metadata": {
        "id": "Y-Gu6V32XXfa"
      }
    },
    {
      "cell_type": "code",
      "source": [
        "X = df1.drop('Churn', axis = 'columns')\n",
        "y = df1['Churn']\n",
        "y.value_counts()"
      ],
      "metadata": {
        "colab": {
          "base_uri": "https://localhost:8080/"
        },
        "id": "pvMEEiZ6Ui4M",
        "outputId": "d240656b-179d-4cf1-f15d-7eb90eca52b5"
      },
      "execution_count": null,
      "outputs": [
        {
          "output_type": "execute_result",
          "data": {
            "text/plain": [
              "0    5163\n",
              "1    1869\n",
              "Name: Churn, dtype: int64"
            ]
          },
          "metadata": {},
          "execution_count": 116
        }
      ]
    },
    {
      "cell_type": "code",
      "source": [
        "from imblearn.over_sampling import SMOTE\n",
        "\n",
        "smote = SMOTE(sampling_strategy = 'minority')\n",
        "X_sm, y_sm = smote.fit_resample(X, y)\n",
        "\n",
        "y_sm.value_counts()"
      ],
      "metadata": {
        "colab": {
          "base_uri": "https://localhost:8080/"
        },
        "id": "iZ7HbIpVYUGS",
        "outputId": "d1a9e15d-1c30-40fc-f9cc-d1cc271b6e01"
      },
      "execution_count": null,
      "outputs": [
        {
          "output_type": "execute_result",
          "data": {
            "text/plain": [
              "0    5163\n",
              "1    5163\n",
              "Name: Churn, dtype: int64"
            ]
          },
          "metadata": {},
          "execution_count": 118
        }
      ]
    },
    {
      "cell_type": "code",
      "source": [
        "X_train_sm, X_test_sm, y_train_sm, y_test_sm = train_test_split(X_sm, y_sm, test_size = 0.2, random_state = 15, stratify = y_sm)\n",
        "print(y_train_sm.value_counts())\n",
        "print(y_test_sm.value_counts())"
      ],
      "metadata": {
        "colab": {
          "base_uri": "https://localhost:8080/"
        },
        "id": "zPWGzi5_YQJC",
        "outputId": "bc35502c-c1d0-4b47-dc34-a2f1914ea93d"
      },
      "execution_count": null,
      "outputs": [
        {
          "output_type": "stream",
          "name": "stdout",
          "text": [
            "1    4130\n",
            "0    4130\n",
            "Name: Churn, dtype: int64\n",
            "1    1033\n",
            "0    1033\n",
            "Name: Churn, dtype: int64\n"
          ]
        }
      ]
    },
    {
      "cell_type": "code",
      "source": [
        "y_pred = ANN(X_train_sm, y_train_sm, X_test_sm, y_test_sm, 'binary_crossentropy', -1)"
      ],
      "metadata": {
        "colab": {
          "base_uri": "https://localhost:8080/"
        },
        "id": "JePRgpaKYQMC",
        "outputId": "17c9626a-6b54-480f-b2a3-a30a4b06fac6"
      },
      "execution_count": null,
      "outputs": [
        {
          "output_type": "stream",
          "name": "stdout",
          "text": [
            "Epoch 1/15\n",
            "259/259 [==============================] - 2s 3ms/step - loss: 0.5433 - accuracy: 0.7346\n",
            "Epoch 2/15\n",
            "259/259 [==============================] - 1s 3ms/step - loss: 0.4773 - accuracy: 0.7748\n",
            "Epoch 3/15\n",
            "259/259 [==============================] - 1s 3ms/step - loss: 0.4703 - accuracy: 0.7758\n",
            "Epoch 4/15\n",
            "259/259 [==============================] - 1s 3ms/step - loss: 0.4647 - accuracy: 0.7811\n",
            "Epoch 5/15\n",
            "259/259 [==============================] - 1s 3ms/step - loss: 0.4609 - accuracy: 0.7840\n",
            "Epoch 6/15\n",
            "259/259 [==============================] - 1s 3ms/step - loss: 0.4569 - accuracy: 0.7890\n",
            "Epoch 7/15\n",
            "259/259 [==============================] - 1s 3ms/step - loss: 0.4547 - accuracy: 0.7837\n",
            "Epoch 8/15\n",
            "259/259 [==============================] - 1s 3ms/step - loss: 0.4507 - accuracy: 0.7900\n",
            "Epoch 9/15\n",
            "259/259 [==============================] - 1s 3ms/step - loss: 0.4462 - accuracy: 0.7962\n",
            "Epoch 10/15\n",
            "259/259 [==============================] - 1s 3ms/step - loss: 0.4423 - accuracy: 0.7923\n",
            "Epoch 11/15\n",
            "259/259 [==============================] - 1s 3ms/step - loss: 0.4383 - accuracy: 0.7985\n",
            "Epoch 12/15\n",
            "259/259 [==============================] - 1s 3ms/step - loss: 0.4351 - accuracy: 0.7994\n",
            "Epoch 13/15\n",
            "259/259 [==============================] - 1s 3ms/step - loss: 0.4324 - accuracy: 0.7977\n",
            "Epoch 14/15\n",
            "259/259 [==============================] - 1s 3ms/step - loss: 0.4292 - accuracy: 0.7999\n",
            "Epoch 15/15\n",
            "259/259 [==============================] - 1s 3ms/step - loss: 0.4265 - accuracy: 0.8035\n",
            "65/65 [==============================] - 0s 2ms/step - loss: 0.4370 - accuracy: 0.7870\n",
            "[0.43695080280303955, 0.7870280742645264]\n",
            " Classification report:\n",
            "               precision    recall  f1-score   support\n",
            "\n",
            "           0       0.82      0.74      0.78      1033\n",
            "           1       0.76      0.84      0.80      1033\n",
            "\n",
            "    accuracy                           0.79      2066\n",
            "   macro avg       0.79      0.79      0.79      2066\n",
            "weighted avg       0.79      0.79      0.79      2066\n",
            "\n"
          ]
        }
      ]
    },
    {
      "cell_type": "code",
      "source": [
        ""
      ],
      "metadata": {
        "id": "RD-iBCivYQPJ"
      },
      "execution_count": null,
      "outputs": []
    },
    {
      "cell_type": "markdown",
      "source": [
        "# **4. Ensemble Method with Under sampling: (Take multiple set of training data)**"
      ],
      "metadata": {
        "id": "joHjd2G3Xt33"
      }
    },
    {
      "cell_type": "code",
      "source": [
        "X = df1.drop('Churn', axis = 'columns')\n",
        "y = df1['Churn']\n",
        "y.value_counts()"
      ],
      "metadata": {
        "colab": {
          "base_uri": "https://localhost:8080/"
        },
        "id": "iWSmp9_JX88V",
        "outputId": "9f429dca-15db-4362-dd64-1aa59ec6ef29"
      },
      "execution_count": null,
      "outputs": [
        {
          "output_type": "execute_result",
          "data": {
            "text/plain": [
              "0    5163\n",
              "1    1869\n",
              "Name: Churn, dtype: int64"
            ]
          },
          "metadata": {},
          "execution_count": 126
        }
      ]
    },
    {
      "cell_type": "code",
      "source": [
        "X_train, X_test, y_train, y_test = train_test_split(X, y, test_size = 0.2, random_state = 15, stratify = y)\n",
        "print(y_train.value_counts())\n",
        "print(y_test.value_counts())"
      ],
      "metadata": {
        "colab": {
          "base_uri": "https://localhost:8080/"
        },
        "id": "i7tbxsmobg4g",
        "outputId": "8fec906d-e36a-44b4-aef1-0396b1c566f3"
      },
      "execution_count": null,
      "outputs": [
        {
          "output_type": "stream",
          "name": "stdout",
          "text": [
            "0    4130\n",
            "1    1495\n",
            "Name: Churn, dtype: int64\n",
            "0    1033\n",
            "1     374\n",
            "Name: Churn, dtype: int64\n"
          ]
        }
      ]
    },
    {
      "cell_type": "code",
      "source": [
        "print(4130/1495)\n",
        "print(4130/3) # about 3 datasets we need to create"
      ],
      "metadata": {
        "colab": {
          "base_uri": "https://localhost:8080/"
        },
        "id": "liavqdo6cL53",
        "outputId": "cc56cdb8-a40d-485d-af54-b29b713f082d"
      },
      "execution_count": null,
      "outputs": [
        {
          "output_type": "stream",
          "name": "stdout",
          "text": [
            "2.762541806020067\n",
            "1376.6666666666667\n"
          ]
        }
      ]
    },
    {
      "cell_type": "code",
      "source": [
        "df2 = X_train.copy()\n",
        "df2['Churn'] = y_train"
      ],
      "metadata": {
        "id": "bcd8uqjFcha_"
      },
      "execution_count": null,
      "outputs": []
    },
    {
      "cell_type": "code",
      "source": [
        "df2_class_0 = df2[df2.Churn == 0]\n",
        "df2_class_1 = df2[df2.Churn == 1]\n",
        "df2_class_0.shape, df2_class_1.shape"
      ],
      "metadata": {
        "colab": {
          "base_uri": "https://localhost:8080/"
        },
        "id": "72iqgpigf_rL",
        "outputId": "ee8422cf-1774-4aed-ebe0-e69870473539"
      },
      "execution_count": null,
      "outputs": [
        {
          "output_type": "execute_result",
          "data": {
            "text/plain": [
              "((4130, 27), (1495, 27))"
            ]
          },
          "metadata": {},
          "execution_count": 136
        }
      ]
    },
    {
      "cell_type": "code",
      "source": [
        "def get_train_batch(df_majority, df_minority, start, end):\n",
        "    df_train = pd.concat([df_majority[start:end], df_minority], axis = 0)\n",
        "\n",
        "    X_train = df_train.drop('Churn', axis = 'columns')\n",
        "    y_train = df_train.Churn\n",
        "\n",
        "    return X_train, y_train"
      ],
      "metadata": {
        "id": "jcF5TXrJgP1k"
      },
      "execution_count": null,
      "outputs": []
    },
    {
      "cell_type": "markdown",
      "source": [
        "# **Model 1:**"
      ],
      "metadata": {
        "id": "9jS0dZ-zqlTu"
      }
    },
    {
      "cell_type": "code",
      "source": [
        "X_train, y_train = get_train_batch(df2_class_0, df2_class_1, 0, 1495)\n",
        "print(X_train.shape)\n",
        "\n",
        "y_pred1 = ANN(X_train, y_train, X_test, y_test, 'binary_crossentropy', -1)"
      ],
      "metadata": {
        "colab": {
          "base_uri": "https://localhost:8080/"
        },
        "id": "cY35QrDjhYyN",
        "outputId": "44c47d42-818d-431c-8fe3-d9d1bcc6f5f9"
      },
      "execution_count": null,
      "outputs": [
        {
          "output_type": "stream",
          "name": "stdout",
          "text": [
            "(2990, 26)\n",
            "Epoch 1/15\n",
            "94/94 [==============================] - 1s 4ms/step - loss: 0.6036 - accuracy: 0.7281\n",
            "Epoch 2/15\n",
            "94/94 [==============================] - 0s 3ms/step - loss: 0.5126 - accuracy: 0.7585\n",
            "Epoch 3/15\n",
            "94/94 [==============================] - 0s 3ms/step - loss: 0.4944 - accuracy: 0.7609\n",
            "Epoch 4/15\n",
            "94/94 [==============================] - 0s 3ms/step - loss: 0.4875 - accuracy: 0.7649\n",
            "Epoch 5/15\n",
            "94/94 [==============================] - 0s 4ms/step - loss: 0.4827 - accuracy: 0.7679\n",
            "Epoch 6/15\n",
            "94/94 [==============================] - 0s 4ms/step - loss: 0.4800 - accuracy: 0.7676\n",
            "Epoch 7/15\n",
            "94/94 [==============================] - 0s 4ms/step - loss: 0.4783 - accuracy: 0.7679\n",
            "Epoch 8/15\n",
            "94/94 [==============================] - 0s 4ms/step - loss: 0.4745 - accuracy: 0.7732\n",
            "Epoch 9/15\n",
            "94/94 [==============================] - 0s 4ms/step - loss: 0.4728 - accuracy: 0.7696\n",
            "Epoch 10/15\n",
            "94/94 [==============================] - 0s 4ms/step - loss: 0.4719 - accuracy: 0.7739\n",
            "Epoch 11/15\n",
            "94/94 [==============================] - 0s 4ms/step - loss: 0.4696 - accuracy: 0.7736\n",
            "Epoch 12/15\n",
            "94/94 [==============================] - 0s 5ms/step - loss: 0.4684 - accuracy: 0.7779\n",
            "Epoch 13/15\n",
            "94/94 [==============================] - 1s 5ms/step - loss: 0.4666 - accuracy: 0.7799\n",
            "Epoch 14/15\n",
            "94/94 [==============================] - 0s 4ms/step - loss: 0.4643 - accuracy: 0.7769\n",
            "Epoch 15/15\n",
            "94/94 [==============================] - 0s 4ms/step - loss: 0.4629 - accuracy: 0.7789\n",
            "44/44 [==============================] - 1s 6ms/step - loss: 0.4940 - accuracy: 0.7427\n",
            "[0.4940183758735657, 0.7427150011062622]\n",
            " Classification report:\n",
            "               precision    recall  f1-score   support\n",
            "\n",
            "           0       0.89      0.74      0.81      1033\n",
            "           1       0.51      0.76      0.61       374\n",
            "\n",
            "    accuracy                           0.74      1407\n",
            "   macro avg       0.70      0.75      0.71      1407\n",
            "weighted avg       0.79      0.74      0.76      1407\n",
            "\n"
          ]
        }
      ]
    },
    {
      "cell_type": "markdown",
      "source": [
        "# **Model 2:**"
      ],
      "metadata": {
        "id": "Rjy4OcJkqvhO"
      }
    },
    {
      "cell_type": "code",
      "source": [
        "X_train, y_train = get_train_batch(df2_class_0, df2_class_1, 1495, 2990)\n",
        "y_pred2 = ANN(X_train, y_train, X_test, y_test, 'binary_crossentropy', -1)"
      ],
      "metadata": {
        "colab": {
          "base_uri": "https://localhost:8080/"
        },
        "id": "wn_usGCMpkdO",
        "outputId": "b5845c6d-9584-44cc-acfa-b040b63822e9"
      },
      "execution_count": null,
      "outputs": [
        {
          "output_type": "stream",
          "name": "stdout",
          "text": [
            "Epoch 1/15\n",
            "94/94 [==============================] - 2s 3ms/step - loss: 0.5914 - accuracy: 0.7100\n",
            "Epoch 2/15\n",
            "94/94 [==============================] - 0s 4ms/step - loss: 0.5126 - accuracy: 0.7502\n",
            "Epoch 3/15\n",
            "94/94 [==============================] - 1s 8ms/step - loss: 0.4975 - accuracy: 0.7579\n",
            "Epoch 4/15\n",
            "94/94 [==============================] - 0s 4ms/step - loss: 0.4915 - accuracy: 0.7565\n",
            "Epoch 5/15\n",
            "94/94 [==============================] - 0s 3ms/step - loss: 0.4856 - accuracy: 0.7632\n",
            "Epoch 6/15\n",
            "94/94 [==============================] - 0s 3ms/step - loss: 0.4818 - accuracy: 0.7639\n",
            "Epoch 7/15\n",
            "94/94 [==============================] - 0s 3ms/step - loss: 0.4785 - accuracy: 0.7682\n",
            "Epoch 8/15\n",
            "94/94 [==============================] - 0s 4ms/step - loss: 0.4757 - accuracy: 0.7696\n",
            "Epoch 9/15\n",
            "94/94 [==============================] - 0s 3ms/step - loss: 0.4746 - accuracy: 0.7686\n",
            "Epoch 10/15\n",
            "94/94 [==============================] - 0s 4ms/step - loss: 0.4714 - accuracy: 0.7716\n",
            "Epoch 11/15\n",
            "94/94 [==============================] - 0s 5ms/step - loss: 0.4697 - accuracy: 0.7702\n",
            "Epoch 12/15\n",
            "94/94 [==============================] - 0s 4ms/step - loss: 0.4673 - accuracy: 0.7746\n",
            "Epoch 13/15\n",
            "94/94 [==============================] - 0s 4ms/step - loss: 0.4659 - accuracy: 0.7732\n",
            "Epoch 14/15\n",
            "94/94 [==============================] - 0s 5ms/step - loss: 0.4644 - accuracy: 0.7719\n",
            "Epoch 15/15\n",
            "94/94 [==============================] - 0s 4ms/step - loss: 0.4631 - accuracy: 0.7773\n",
            "44/44 [==============================] - 0s 2ms/step - loss: 0.5123 - accuracy: 0.7363\n",
            "[0.5123098492622375, 0.7363184094429016]\n",
            " Classification report:\n",
            "               precision    recall  f1-score   support\n",
            "\n",
            "           0       0.91      0.71      0.80      1033\n",
            "           1       0.50      0.80      0.62       374\n",
            "\n",
            "    accuracy                           0.74      1407\n",
            "   macro avg       0.71      0.76      0.71      1407\n",
            "weighted avg       0.80      0.74      0.75      1407\n",
            "\n"
          ]
        }
      ]
    },
    {
      "cell_type": "markdown",
      "source": [
        "# **Model 3:**"
      ],
      "metadata": {
        "id": "ScnQCx8Zq1kl"
      }
    },
    {
      "cell_type": "code",
      "source": [
        "X_train, y_train = get_train_batch(df2_class_0, df2_class_1, 2990, 4130)\n",
        "y_pred3 = ANN(X_train, y_train, X_test, y_test, 'binary_crossentropy', -1)"
      ],
      "metadata": {
        "colab": {
          "base_uri": "https://localhost:8080/",
          "height": 194
        },
        "id": "UYzNScMuqDrf",
        "outputId": "fdcd84a0-d702-49e7-e732-ad94afded36c"
      },
      "execution_count": null,
      "outputs": [
        {
          "output_type": "error",
          "ename": "NameError",
          "evalue": "ignored",
          "traceback": [
            "\u001b[0;31m---------------------------------------------------------------------------\u001b[0m",
            "\u001b[0;31mNameError\u001b[0m                                 Traceback (most recent call last)",
            "\u001b[0;32m<ipython-input-1-b217394ef267>\u001b[0m in \u001b[0;36m<module>\u001b[0;34m()\u001b[0m\n\u001b[0;32m----> 1\u001b[0;31m \u001b[0mX_train\u001b[0m\u001b[0;34m,\u001b[0m \u001b[0my_train\u001b[0m \u001b[0;34m=\u001b[0m \u001b[0mget_train_batch\u001b[0m\u001b[0;34m(\u001b[0m\u001b[0mdf2_class_0\u001b[0m\u001b[0;34m,\u001b[0m \u001b[0mdf2_class_1\u001b[0m\u001b[0;34m,\u001b[0m \u001b[0;36m2990\u001b[0m\u001b[0;34m,\u001b[0m \u001b[0;36m4130\u001b[0m\u001b[0;34m)\u001b[0m\u001b[0;34m\u001b[0m\u001b[0;34m\u001b[0m\u001b[0m\n\u001b[0m\u001b[1;32m      2\u001b[0m \u001b[0my_pred3\u001b[0m \u001b[0;34m=\u001b[0m \u001b[0mANN\u001b[0m\u001b[0;34m(\u001b[0m\u001b[0mX_train\u001b[0m\u001b[0;34m,\u001b[0m \u001b[0my_train\u001b[0m\u001b[0;34m,\u001b[0m \u001b[0mX_test\u001b[0m\u001b[0;34m,\u001b[0m \u001b[0my_test\u001b[0m\u001b[0;34m,\u001b[0m \u001b[0;34m'binary_crossentropy'\u001b[0m\u001b[0;34m,\u001b[0m \u001b[0;34m-\u001b[0m\u001b[0;36m1\u001b[0m\u001b[0;34m)\u001b[0m\u001b[0;34m\u001b[0m\u001b[0;34m\u001b[0m\u001b[0m\n",
            "\u001b[0;31mNameError\u001b[0m: name 'get_train_batch' is not defined"
          ]
        }
      ]
    },
    {
      "cell_type": "markdown",
      "source": [
        "# **Voting:**"
      ],
      "metadata": {
        "id": "XzWYmYnYrBkh"
      }
    },
    {
      "cell_type": "code",
      "source": [
        "y_pred_final = y_pred1.copy()\n",
        "\n",
        "for i in range(len(y_pred1)):\n",
        "    n_ones = y_pred1[i] + y_pred2[i] + y_pred3[i]\n",
        "    if n_ones>1:\n",
        "        y_pred_final[i] = 1\n",
        "    else:\n",
        "        y_pred_final[i] = 0\n",
        "    "
      ],
      "metadata": {
        "id": "Q7Jq0balp74t"
      },
      "execution_count": null,
      "outputs": []
    },
    {
      "cell_type": "code",
      "source": [
        "print(classification_report(y_test, y_pred_final))"
      ],
      "metadata": {
        "colab": {
          "base_uri": "https://localhost:8080/"
        },
        "id": "GQ8DGeI4tafE",
        "outputId": "308f3ef1-5407-48ce-947b-22a4395012e1"
      },
      "execution_count": null,
      "outputs": [
        {
          "output_type": "stream",
          "name": "stdout",
          "text": [
            "              precision    recall  f1-score   support\n",
            "\n",
            "           0       0.90      0.72      0.80      1033\n",
            "           1       0.50      0.77      0.60       374\n",
            "\n",
            "    accuracy                           0.73      1407\n",
            "   macro avg       0.70      0.74      0.70      1407\n",
            "weighted avg       0.79      0.73      0.75      1407\n",
            "\n"
          ]
        }
      ]
    }
  ],
  "metadata": {
    "colab": {
      "collapsed_sections": [
        "cyOI6FmsbZtK",
        "3G4pB7GiSq1-",
        "14Mdq3BSa4Mg",
        "ubjLPjohScC3",
        "ScnQCx8Zq1kl"
      ],
      "name": " ANN Customer Churn Prediction Code Basics.ipynb",
      "provenance": []
    },
    "kernelspec": {
      "display_name": "Python 3",
      "name": "python3"
    },
    "language_info": {
      "name": "python"
    }
  },
  "nbformat": 4,
  "nbformat_minor": 0
}